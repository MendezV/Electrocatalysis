{
 "cells": [
  {
   "cell_type": "code",
   "execution_count": 57,
   "metadata": {},
   "outputs": [
    {
     "name": "stdout",
     "output_type": "stream",
     "text": [
      "Populating the interactive namespace from numpy and matplotlib\n"
     ]
    }
   ],
   "source": [
    "%pylab inline"
   ]
  },
  {
   "cell_type": "code",
   "execution_count": 58,
   "metadata": {},
   "outputs": [],
   "source": [
    "Ionpos_Methanediol_ang_nc=[[ 1.35170 ,  -0.08370,    0.00000  ], \n",
    "                    [-0.52950,    1.24650 ,  -0.00000  ], \n",
    "                    [-0.06950,   -0.09830,   -0.00000  ],\n",
    "                    [-0.43450 ,  -0.61450  ,  0.88910  ],\n",
    "                    [-0.43450 ,  -0.61450 ,  -0.88910 ],\n",
    "                    [1.62470 ,  -1.02540  ,  0.00000  ],\n",
    "                    [-1.50830 ,   1.19000  ,  0.00000]]\n",
    "ions_Methanediol=['O','O','C','H','H','H','H']"
   ]
  },
  {
   "cell_type": "code",
   "execution_count": 59,
   "metadata": {},
   "outputs": [
    {
     "name": "stdout",
     "output_type": "stream",
     "text": [
      "[[ 1.7862  0.5308  0.8891]\n",
      " [-0.095   1.861   0.8891]\n",
      " [ 0.365   0.5162  0.8891]\n",
      " [ 0.      0.      1.7782]\n",
      " [ 0.      0.      0.    ]\n",
      " [ 2.0592 -0.4109  0.8891]\n",
      " [-1.0738  1.8045  0.8891]]\n"
     ]
    }
   ],
   "source": [
    "Ionpos_Methanediol_ang_nr= Ionpos_Methanediol_ang_nc-np.array([-0.43450 ,  -0.61450 ,  -0.88910])  #shift H that doesnt belong to the origin\n",
    "print(Ionpos_Methanediol_ang_nr)"
   ]
  },
  {
   "cell_type": "code",
   "execution_count": 60,
   "metadata": {},
   "outputs": [],
   "source": [
    "b=np.mat([0,0,1])\n",
    "a=np.mat([ 0.365 ,  0.5162 , 0.8891]) #rotate to make z axis the one connecting the hydrogen to be removed and the carbon\n",
    "a=a/np.sqrt(np.dot(a,a.T))\n",
    "c=np.dot(a,b.T)\n",
    "v=np.cross(a,b)[0]\n",
    "s=np.sqrt(np.dot(v,v.T))\n",
    "y = np.mat([[0, -v[2], v[1]], [v[2], 0, -v[0]], [-v[1], v[0], 0]])\n",
    "\n",
    "Rot_Methanediol=np.mat(np.diag([1,1,1]))+y+np.dot(y,y)*(((1-c)/s**2)[0,0])\n",
    "Ionpos_Methanediol_ang=np.array(np.dot(Rot_Methanediol,np.mat(Ionpos_Methanediol_ang_nr.T))).T"
   ]
  },
  {
   "cell_type": "code",
   "execution_count": 61,
   "metadata": {},
   "outputs": [],
   "source": [
    " Ionpos_Formaldehyde_ang_nc=np.array([[ 0.000000   ,  .000000   ,  .683501],\n",
    "            [.000000   ,  .000000 ,   -.536614],\n",
    "            [.000000  ,   .934390  , -1.124164],\n",
    "            [.000000  ,  -.934390  , -1.124164]])\n",
    "ions_Formaldehyde=['O','C','H','H']"
   ]
  },
  {
   "cell_type": "code",
   "execution_count": 62,
   "metadata": {},
   "outputs": [
    {
     "name": "stdout",
     "output_type": "stream",
     "text": [
      "[[0.       0.93439  1.807665]\n",
      " [0.       0.93439  0.58755 ]\n",
      " [0.       1.86878  0.      ]\n",
      " [0.       0.       0.      ]]\n"
     ]
    }
   ],
   "source": [
    "Ionpos_Formaldehyde_ang_nr= Ionpos_Formaldehyde_ang_nc-np.array([.000000  ,  -.934390  , -1.124164]) #shift H that doesnt belong to the origin\n",
    "print(Ionpos_Formaldehyde_ang_nr)"
   ]
  },
  {
   "cell_type": "code",
   "execution_count": 63,
   "metadata": {},
   "outputs": [],
   "source": [
    "b=np.mat([0,0,1])\n",
    "a=np.mat([0.     ,  0.93439 , 0.58755 ]) #rotate to make z axis the one connecting the hydrogen to be removed and the carbon\n",
    "a=a/np.sqrt(np.dot(a,a.T))\n",
    "c=np.dot(a,b.T)\n",
    "v=np.cross(a,b)[0]\n",
    "s=np.sqrt(np.dot(v,v.T))\n",
    "y = np.mat([[0, -v[2], v[1]], [v[2], 0, -v[0]], [-v[1], v[0], 0]])\n",
    "\n",
    "Rot_Formaldehyde=np.mat(np.diag([1,1,1]))+y+np.dot(y,y)*(((1-c)/s**2)[0,0])\n",
    "Ionpos_Formaldehyde_ang=np.array(np.dot(Rot_Formaldehyde,np.mat(Ionpos_Formaldehyde_ang_nr.T))).T\n"
   ]
  },
  {
   "cell_type": "code",
   "execution_count": 64,
   "metadata": {},
   "outputs": [],
   "source": [
    "Ionpos_CO2_ang_nr=np.array([[ 0.000000  ,  0.000000 ,0.000000],\n",
    "                            [0.00000, 0.000000   , 1.159076],\n",
    "                            [ 0.000000   , 0.000000  , -1.159076]])\n",
    "ions_CO2=['C','O','O']"
   ]
  },
  {
   "cell_type": "code",
   "execution_count": 65,
   "metadata": {},
   "outputs": [],
   "source": [
    "b=np.mat([1,0,0])\n",
    "a=np.mat([0.     ,  0 , 1 ])\n",
    "a=a/np.sqrt(np.dot(a,a.T))\n",
    "c=np.dot(a,b.T)\n",
    "v=np.cross(a,b)[0]\n",
    "s=np.sqrt(np.dot(v,v.T))\n",
    "y = np.mat([[0, -v[2], v[1]], [v[2], 0, -v[0]], [-v[1], v[0], 0]])\n",
    "\n",
    "Rot_CO2=np.mat(np.diag([1,1,1]))+y+np.dot(y,y)*(((1-c)/s**2)[0,0])\n",
    "Ionpos_CO2_ang=np.array(np.dot(Rot_CO2,np.mat(Ionpos_CO2_ang_nr.T))).T\n"
   ]
  },
  {
   "cell_type": "code",
   "execution_count": 66,
   "metadata": {},
   "outputs": [],
   "source": [
    "Ionpos_Formic_acid_ang_nc=np.array([[0.7910  ,   -0.0921   ,   1.3425],\n",
    "   [0.3208  ,   -0.0411   ,   0.3549],\n",
    "   [0.8042   ,  -0.1358   ,  -0.7518],\n",
    "   [-1.0065  ,    0.1597   ,   0.4283],\n",
    "   [-1.4043   ,   0.2023  ,   -0.4370]])  \n",
    "ions_Formic_acid=['H','C','O','O','H']"
   ]
  },
  {
   "cell_type": "code",
   "execution_count": 67,
   "metadata": {},
   "outputs": [],
   "source": [
    "b=np.mat([0,0,1])\n",
    "a=np.mat(np.cross(Ionpos_Formic_acid_ang_nc[1]-Ionpos_Formic_acid_ang_nc[0], Ionpos_Formic_acid_ang_nc[2]-Ionpos_Formic_acid_ang_nc[0])) #the molecule is planar, we rotate to set the normal vector of the plane to line up with the z axis\n",
    "a=a/np.sqrt(np.dot(a,a.T))\n",
    "c=np.dot(a,b.T)\n",
    "v=np.cross(a,b)[0]\n",
    "s=np.sqrt(np.dot(v,v.T))\n",
    "y = np.mat([[0, -v[2], v[1]], [v[2], 0, -v[0]], [-v[1], v[0], 0]])\n",
    "\n",
    "Rot_Formic_acid=np.mat(np.diag([1,1,1]))+y+np.dot(y,y)*(((1-c)/s**2)[0,0])\n",
    "Ionpos_Formic_acid_ang=np.array(np.dot(Rot_Formic_acid,np.mat(Ionpos_Formic_acid_ang_nc.T))).T\n"
   ]
  },
  {
   "cell_type": "code",
   "execution_count": 68,
   "metadata": {},
   "outputs": [
    {
     "name": "stdout",
     "output_type": "stream",
     "text": [
      "[0.   0.25] [0.   0.25] [-0.2 -0.1  0.   0.1  0.2]\n"
     ]
    }
   ],
   "source": [
    "#attempt at creating the Pt file\n",
    "Coords1=(np.linspace(0,0.5,2))/2\n",
    "Coords2=(np.linspace(0,0.5,2))/2\n",
    "Coords3=(np.linspace(-0.2,.2,5))\n",
    "print(Coords1,Coords2,Coords3)"
   ]
  },
  {
   "cell_type": "code",
   "execution_count": 69,
   "metadata": {},
   "outputs": [],
   "source": [
    "Ionpos_Pt=[[i,j,k] for i in Coords1 for j in Coords2 for k in Coords3]\n",
    "ions_Pt=['Pt' for i in range(len(Ionpos_Pt))]"
   ]
  },
  {
   "cell_type": "code",
   "execution_count": 70,
   "metadata": {},
   "outputs": [
    {
     "name": "stdout",
     "output_type": "stream",
     "text": [
      "Ion Pt 0.000 0.000 -0.200 \n",
      "\n",
      "Ion Pt 0.000 0.000 -0.100 \n",
      "\n",
      "Ion Pt 0.000 0.000 0.000 \n",
      "\n",
      "Ion Pt 0.000 0.000 0.100 \n",
      "\n",
      "Ion Pt 0.000 0.000 0.200 \n",
      "\n",
      "Ion Pt 0.000 0.250 -0.200 \n",
      "\n",
      "Ion Pt 0.000 0.250 -0.100 \n",
      "\n",
      "Ion Pt 0.000 0.250 0.000 \n",
      "\n",
      "Ion Pt 0.000 0.250 0.100 \n",
      "\n",
      "Ion Pt 0.000 0.250 0.200 \n",
      "\n",
      "Ion Pt 0.250 0.000 -0.200 \n",
      "\n",
      "Ion Pt 0.250 0.000 -0.100 \n",
      "\n",
      "Ion Pt 0.250 0.000 0.000 \n",
      "\n",
      "Ion Pt 0.250 0.000 0.100 \n",
      "\n",
      "Ion Pt 0.250 0.000 0.200 \n",
      "\n",
      "Ion Pt 0.250 0.250 -0.200 \n",
      "\n",
      "Ion Pt 0.250 0.250 -0.100 \n",
      "\n",
      "Ion Pt 0.250 0.250 0.000 \n",
      "\n",
      "Ion Pt 0.250 0.250 0.100 \n",
      "\n",
      "Ion Pt 0.250 0.250 0.200 \n",
      "\n"
     ]
    }
   ],
   "source": [
    "for i in range(len(Ionpos_Pt)):\n",
    "    print('Ion '+ions_Pt[i], end=' ' )\n",
    "    for j in range(len(Ionpos_Pt[i])):\n",
    "        print(\"%.3f\" % Ionpos_Pt[i][j], end = ' ')\n",
    "    print('\\n')"
   ]
  },
  {
   "cell_type": "code",
   "execution_count": 71,
   "metadata": {},
   "outputs": [
    {
     "name": "stdout",
     "output_type": "stream",
     "text": [
      "[0.  0.5] [0.  0.5] [-0.2 -0.1  0.   0.1  0.2]\n"
     ]
    }
   ],
   "source": [
    "Coords1=(np.linspace(0,0.5,2))\n",
    "Coords2=(np.linspace(0,0.5,2))\n",
    "Coords3=(np.linspace(-0.2,.2,5))\n",
    "print(Coords1,Coords2,Coords3)"
   ]
  },
  {
   "cell_type": "code",
   "execution_count": 72,
   "metadata": {},
   "outputs": [],
   "source": [
    "Ionpos_Pt=[[i,j,k] for i in Coords1 for j in Coords2 for k in Coords3]\n",
    "ions_Pt=['Pt' for i in range(len(Ionpos_Pt))]"
   ]
  },
  {
   "cell_type": "code",
   "execution_count": 73,
   "metadata": {},
   "outputs": [
    {
     "name": "stdout",
     "output_type": "stream",
     "text": [
      "Ion Pt 0.000 0.000 -0.200 \n",
      "\n",
      "Ion Pt 0.000 0.000 -0.100 \n",
      "\n",
      "Ion Pt 0.000 0.000 0.000 \n",
      "\n",
      "Ion Pt 0.000 0.000 0.100 \n",
      "\n",
      "Ion Pt 0.000 0.000 0.200 \n",
      "\n",
      "Ion Pt 0.000 0.500 -0.200 \n",
      "\n",
      "Ion Pt 0.000 0.500 -0.100 \n",
      "\n",
      "Ion Pt 0.000 0.500 0.000 \n",
      "\n",
      "Ion Pt 0.000 0.500 0.100 \n",
      "\n",
      "Ion Pt 0.000 0.500 0.200 \n",
      "\n",
      "Ion Pt 0.500 0.000 -0.200 \n",
      "\n",
      "Ion Pt 0.500 0.000 -0.100 \n",
      "\n",
      "Ion Pt 0.500 0.000 0.000 \n",
      "\n",
      "Ion Pt 0.500 0.000 0.100 \n",
      "\n",
      "Ion Pt 0.500 0.000 0.200 \n",
      "\n",
      "Ion Pt 0.500 0.500 -0.200 \n",
      "\n",
      "Ion Pt 0.500 0.500 -0.100 \n",
      "\n",
      "Ion Pt 0.500 0.500 0.000 \n",
      "\n",
      "Ion Pt 0.500 0.500 0.100 \n",
      "\n",
      "Ion Pt 0.500 0.500 0.200 \n",
      "\n"
     ]
    }
   ],
   "source": [
    "for i in range(len(Ionpos_Pt)):\n",
    "    print('Ion '+ions_Pt[i], end=' ' )\n",
    "    for j in range(len(Ionpos_Pt[i])):\n",
    "        print(\"%.3f\" % Ionpos_Pt[i][j], end = ' ')\n",
    "    print('\\n')"
   ]
  },
  {
   "cell_type": "code",
   "execution_count": 74,
   "metadata": {},
   "outputs": [
    {
     "name": "stdout",
     "output_type": "stream",
     "text": [
      "Ion O 0.000 -1.033 1.753 \n",
      "\n",
      "Ion C 0.000 0.000 1.104 \n",
      "\n",
      "Ion H 0.000 0.995 1.582 \n",
      "\n",
      "Ion H 0.000 0.000 0.000 \n",
      "\n"
     ]
    }
   ],
   "source": [
    "for i in range(len(Ionpos_Formaldehyde_ang)):\n",
    "    print('Ion '+ions_Formaldehyde[i], end=' ' )\n",
    "    for j in range(len(Ionpos_Formaldehyde_ang[i])):\n",
    "        print(\"%.3f\" % Ionpos_Formaldehyde_ang[i][j], end = ' ')\n",
    "    print('\\n')"
   ]
  },
  {
   "cell_type": "code",
   "execution_count": 75,
   "metadata": {
    "scrolled": true
   },
   "outputs": [
    {
     "name": "stdout",
     "output_type": "stream",
     "text": [
      "Ion O 1.332 -0.111 1.573 \n",
      "\n",
      "Ion O -0.549 1.219 1.573 \n",
      "\n",
      "Ion C 0.000 0.000 1.091 \n",
      "\n",
      "Ion H -0.595 -0.841 1.449 \n",
      "\n",
      "Ion H 0.000 0.000 0.000 \n",
      "\n",
      "Ion H 1.671 -0.961 1.219 \n",
      "\n",
      "Ion H -1.462 1.255 1.219 \n",
      "\n"
     ]
    }
   ],
   "source": [
    "for i in range(len(Ionpos_Methanediol_ang)):\n",
    "    print('Ion '+ions_Methanediol[i], end=' ' )\n",
    "    for j in range(len(Ionpos_Methanediol_ang[i])):\n",
    "        print(\"%.3f\" % Ionpos_Methanediol_ang[i][j], end = ' ')\n",
    "    print('\\n')"
   ]
  },
  {
   "cell_type": "code",
   "execution_count": 76,
   "metadata": {},
   "outputs": [
    {
     "name": "stdout",
     "output_type": "stream",
     "text": [
      "Ion H 0.987 1.210 -0.000 \n",
      "\n",
      "Ion C 0.373 0.303 -0.000 \n",
      "\n",
      "Ion O 0.695 -0.865 -0.000 \n",
      "\n",
      "Ion O -0.944 0.575 0.000 \n",
      "\n",
      "Ion H -1.468 -0.221 0.000 \n",
      "\n"
     ]
    }
   ],
   "source": [
    "for i in range(len(Ionpos_Formic_acid_ang)):\n",
    "    print('Ion '+ions_Formic_acid[i], end=' ' )\n",
    "    for j in range(len(Ionpos_Formic_acid_ang[i])):\n",
    "        print(\"%.3f\" % Ionpos_Formic_acid_ang[i][j], end = ' ')\n",
    "    print('\\n')\n"
   ]
  },
  {
   "cell_type": "code",
   "execution_count": 77,
   "metadata": {},
   "outputs": [
    {
     "name": "stdout",
     "output_type": "stream",
     "text": [
      "Ion C 0.000 0.000 0.000 \n",
      "\n",
      "Ion O 1.159 0.000 0.000 \n",
      "\n",
      "Ion O -1.159 0.000 0.000 \n",
      "\n"
     ]
    }
   ],
   "source": [
    "\n",
    "for i in range(len(Ionpos_CO2_ang)):\n",
    "    print('Ion '+ions_CO2[i], end=' ' )\n",
    "    for j in range(len(Ionpos_CO2_ang[i])):\n",
    "        print(\"%.3f\" % Ionpos_CO2_ang[i][j], end = ' ')\n",
    "    print('\\n')"
   ]
  },
  {
   "cell_type": "code",
   "execution_count": 78,
   "metadata": {},
   "outputs": [
    {
     "name": "stdout",
     "output_type": "stream",
     "text": [
      "Ion O 0.000 -1.033 1.753 \n",
      "\n",
      "Ion C 0.000 0.000 1.104 \n",
      "\n",
      "Ion H 0.000 0.995 1.582 \n",
      "\n",
      "Ion H 0.000 0.000 0.000 \n",
      "\n",
      "__________________________\n",
      "Ion O 1.332 -0.111 1.573 \n",
      "\n",
      "Ion O -0.549 1.219 1.573 \n",
      "\n",
      "Ion C 0.000 0.000 1.091 \n",
      "\n",
      "Ion H -0.595 -0.841 1.449 \n",
      "\n",
      "Ion H 0.000 0.000 0.000 \n",
      "\n",
      "Ion H 1.671 -0.961 1.219 \n",
      "\n",
      "Ion H -1.462 1.255 1.219 \n",
      "\n",
      "__________________________\n",
      "Ion H 0.614 0.907 0.000 \n",
      "\n",
      "Ion C 0.000 0.000 0.000 \n",
      "\n",
      "Ion O 0.322 -1.168 0.000 \n",
      "\n",
      "Ion O -1.317 0.272 0.000 \n",
      "\n",
      "Ion H -1.840 -0.524 0.000 \n",
      "\n",
      "__________________________\n",
      "Ion C 0.000 0.000 0.000 \n",
      "\n",
      "Ion O 1.159 0.000 0.000 \n",
      "\n",
      "Ion O -1.159 0.000 0.000 \n",
      "\n"
     ]
    }
   ],
   "source": [
    "Ionpos_Formaldehyde_p=np.array(Ionpos_Formaldehyde_ang)-array(Ionpos_Formaldehyde_ang[-1])\n",
    "Ionpos_Methanediol_p=np.array(Ionpos_Methanediol_ang)-array(Ionpos_Methanediol_ang[4])\n",
    "Ionpos_Formic_acid_p=np.array(Ionpos_Formic_acid_ang)-array(Ionpos_Formic_acid_ang[1])\n",
    "Ionpos_CO2_p=np.array(Ionpos_CO2_ang)\n",
    "for i in range(len(Ionpos_Formaldehyde_p)):\n",
    "    print('Ion '+ions_Formaldehyde[i], end=' ' )\n",
    "    for j in range(len(Ionpos_Formaldehyde_p[i])):\n",
    "        print(\"%.3f\" % Ionpos_Formaldehyde_p[i][j], end = ' ')\n",
    "    print('\\n')\n",
    "print('__________________________')\n",
    "for i in range(len(Ionpos_Methanediol_p)):\n",
    "    print('Ion '+ions_Methanediol[i], end=' ' )\n",
    "    for j in range(len(Ionpos_Methanediol_p[i])):\n",
    "        print(\"%.3f\" % Ionpos_Methanediol_p[i][j], end = ' ')\n",
    "    print('\\n')\n",
    "    \n",
    "print('__________________________')\n",
    "for i in range(len(Ionpos_Formic_acid_p)):\n",
    "    print('Ion '+ions_Formic_acid[i], end=' ' )\n",
    "    for j in range(len(Ionpos_Formic_acid_p[i])):\n",
    "        print(\"%.3f\" % Ionpos_Formic_acid_p[i][j], end = ' ')\n",
    "    print('\\n')\n",
    "print('__________________________')\n",
    "for i in range(len(Ionpos_CO2_p)):\n",
    "    print('Ion '+ions_CO2[i], end=' ' )\n",
    "    for j in range(len(Ionpos_CO2_p[i])):\n",
    "        print(\"%.3f\" % Ionpos_CO2_p[i][j], end = ' ')\n",
    "    print('\\n')"
   ]
  },
  {
   "cell_type": "code",
   "execution_count": 79,
   "metadata": {},
   "outputs": [],
   "source": [
    "Ionpos_Formaldehyde_p=Ionpos_Formaldehyde_p #2.05 is the bond length of carbon and Pt\n",
    "Ionpos_Methanediol_p=Ionpos_Methanediol_p"
   ]
  },
  {
   "cell_type": "code",
   "execution_count": null,
   "metadata": {},
   "outputs": [],
   "source": []
  },
  {
   "cell_type": "code",
   "execution_count": 80,
   "metadata": {},
   "outputs": [],
   "source": [
    "Ionpos_Formaldehyde_p=Ionpos_Formaldehyde_p #2.05 is the bond length of carbon and Pt\n",
    "Ionpos_Methanediol_p=Ionpos_Methanediol_p"
   ]
  },
  {
   "cell_type": "code",
   "execution_count": 81,
   "metadata": {},
   "outputs": [
    {
     "name": "stdout",
     "output_type": "stream",
     "text": [
      "22.632130552233328 10.47612863727537 10.47612863727537 42.768616068471886\n"
     ]
    }
   ],
   "source": [
    "#conversion factors for orthorhombic lattice\n",
    "a_Pt_pre1=0.392 #nm\n",
    "a_Pt_pre2=0.392 #nm\n",
    "a_Pt_pre3=0.392 #nm\n",
    "a_Pt_ang=a_Pt*10 #angstrom\n",
    "a_Pt_ang1=2*a_Pt_ang/sqrt(2) #angstrom\n",
    "a_Pt_ang2=2*a_Pt_ang/sqrt(2/3) #angstrom\n",
    "a_Pt_ang3=5*(sqrt(3)*a_Pt_ang/3)+5*(sqrt(3)*a_Pt_ang/3)  #angstrom (each layer is sqrt(3)a/3 ) 5 layers of material and 5 of separation\n",
    "\n",
    "\n",
    "#conversion factors for orthorhombic lattice\n",
    "a_Pt=0.392 #nm\n",
    "a_Pt_ang=a_Pt*10 #angstrom\n",
    "a_Pt_ang1=2*a_Pt_ang/sqrt(2) #angstrom\n",
    "a_Pt_ang2=2*a_Pt_ang/sqrt(2) #angstrom\n",
    "a_Pt_ang3=5*(sqrt(3)*a_Pt_ang/3)+5*(sqrt(3)*a_Pt_ang/3)  #angstrom (each layer is sqrt(3)a/3 ) 5 layers of material and 5 of separation\n",
    "\n",
    "\n",
    "print(a_Pt_ang3,a_Pt_ang1*1.88973,a_Pt_ang2*1.88973,a_Pt_ang3*1.88973)\n",
    "#A100_Formaldehyde=np.array([np.ones(len(Ionpos_Formaldehyde_p))*a_Pt_ang1,np.ones(len(Ionpos_Formaldehyde_p))*a_Pt_ang2,np.ones(len(Ionpos_Formaldehyde_p))*a_Pt_ang3])\n",
    "#A100_Ionpos_Methanediol=np.array([np.ones(len(Ionpos_Methanediol_p))*a_Pt_ang1,np.ones(len(Ionpos_Methanediol_p))*a_Pt_ang2,np.ones(len(Ionpos_Methanediol_p))*a_Pt_ang3])\n",
    "\n",
    "\n",
    "\n",
    "### change of basis from rotated hexagonal to euclidean (this is just stacking the basis vectors of the hexagonal \n",
    "#### side by side)\n",
    "A100_CHangebasis_inv=(mat(array([[0 , -a_Pt_ang/2 , a_Pt_ang],[a_Pt_ang/2  , 0 ,  a_Pt_ang],[-a_Pt_ang/2 , a_Pt_ang/2 , a_Pt_ang]])))\n",
    "###rotating the vectors found in the tutorial (rotated hexagonal that points in the 111 direction) \n",
    "### to get the hexagonal lattice vectors perpendicular to the z axis to setup the molecule coordinates\n",
    "\n",
    "b=np.mat([0,0,1])\n",
    "a=np.mat([1 ,  1 , 1 ]) #rotate to make z axis the 111 direction\n",
    "a=a/np.sqrt(np.dot(a,a.T))\n",
    "c=np.dot(a,b.T)\n",
    "v=np.cross(a,b)[0]\n",
    "s=np.sqrt(np.dot(v,v.T))\n",
    "y = np.mat([[0, -v[2], v[1]], [v[2], 0, -v[0]], [-v[1], v[0], 0]])\n",
    "\n",
    "Rot=np.mat(np.diag([1,1,1]))+y+np.dot(y,y)*(((1-c)/s**2)[0,0]) ## rotates to hexagonal with z axis as the c axis\n",
    "A100_CHangebasis_inv_True=np.array(np.dot(Rot,A100_CHangebasis_inv)) ### change of basis from hexagonal to euclidean\n",
    "\n",
    "##scaling the coordinates\n",
    "A100_CHangebasis_inv_scaled=dot(diag([2,2,a_Pt_ang3/A100_CHangebasis_inv_True[2][2]]),A100_CHangebasis_inv_True)\n",
    "A100_CHangebasis=inv(A100_CHangebasis_inv_scaled) ##change of basis from  euclidean to hexagonal\n"
   ]
  },
  {
   "cell_type": "code",
   "execution_count": 82,
   "metadata": {},
   "outputs": [],
   "source": [
    "Ionpos_Formaldehyde_pp=array((dot(A100_CHangebasis,Ionpos_Formaldehyde_p.T)).T)"
   ]
  },
  {
   "cell_type": "code",
   "execution_count": 83,
   "metadata": {},
   "outputs": [],
   "source": [
    "Ionpos_Methanediol_pp=array((dot(A100_CHangebasis,Ionpos_Methanediol_p.T)).T)"
   ]
  },
  {
   "cell_type": "code",
   "execution_count": 84,
   "metadata": {},
   "outputs": [],
   "source": [
    "Ionpos_Formic_acid_pp=array((dot(A100_CHangebasis,Ionpos_Formic_acid_p.T)).T)"
   ]
  },
  {
   "cell_type": "code",
   "execution_count": 85,
   "metadata": {},
   "outputs": [],
   "source": [
    "Ionpos_CO2_pp=array((dot(A100_CHangebasis,Ionpos_CO2_p.T)).T)"
   ]
  },
  {
   "cell_type": "code",
   "execution_count": 86,
   "metadata": {},
   "outputs": [
    {
     "name": "stdout",
     "output_type": "stream",
     "text": [
      "ion O -0.208 -0.056 0.077 1\n",
      "ion C 0.000 -0.000 0.049 1\n",
      "ion H 0.200 0.054 0.070 1\n",
      "ion H 0.000 0.000 0.000 1\n",
      "__________________________\n",
      "ion O -0.094 -0.274 0.070 1\n",
      "ion O 0.275 0.176 0.070 1\n",
      "ion C 0.000 -0.000 0.048 1\n",
      "ion H -0.137 0.074 0.064 1\n",
      "ion H 0.000 0.000 0.000 1\n",
      "ion H -0.283 -0.388 0.054 1\n",
      "ion H 0.331 0.362 0.054 1\n",
      "__________________________\n",
      "ion H 0.149 -0.075 0.000 1\n",
      "ion C 0.000 0.000 0.000 1\n",
      "ion O -0.252 -0.128 0.000 1\n",
      "ion O 0.126 0.280 0.000 1\n",
      "ion H -0.006 0.342 0.000 1\n",
      "__________________________\n",
      "ion C 0.000 0.000 0.000 1\n",
      "ion O -0.062 -0.233 0.000 1\n",
      "ion O 0.062 0.233 0.000 1\n"
     ]
    }
   ],
   "source": [
    "for i in range(len(Ionpos_Formaldehyde_pp)):\n",
    "    print('ion '+ions_Formaldehyde[i], end=' ' )\n",
    "    for j in range(len(Ionpos_Formaldehyde_pp[i])):\n",
    "        print(\"%.3f\" % Ionpos_Formaldehyde_pp[i][j], end = ' ')\n",
    "    print('1')\n",
    "print('__________________________')\n",
    "for i in range(len(Ionpos_Methanediol_pp)):\n",
    "    print('ion '+ions_Methanediol[i], end=' ' )\n",
    "    for j in range(len(Ionpos_Methanediol_pp[i])):\n",
    "        print(\"%.3f\" % Ionpos_Methanediol_pp[i][j], end = ' ')\n",
    "    print('1')\n",
    "print('__________________________')    \n",
    "for i in range(len(Ionpos_Formic_acid_pp)):\n",
    "    print('ion '+ions_Formic_acid[i], end=' ' )\n",
    "    for j in range(len(Ionpos_Formic_acid_pp[i])):\n",
    "        print(\"%.3f\" % Ionpos_Formic_acid_pp[i][j], end = ' ')\n",
    "    print('1')\n",
    "print('__________________________') \n",
    "for i in range(len(Ionpos_CO2_pp)):\n",
    "    print('ion '+ions_CO2[i], end=' ' )\n",
    "    for j in range(len(Ionpos_CO2_pp[i])):\n",
    "        print(\"%.3f\" % Ionpos_CO2_pp[i][j], end = ' ')\n",
    "    print('1')"
   ]
  },
  {
   "cell_type": "code",
   "execution_count": null,
   "metadata": {},
   "outputs": [],
   "source": []
  },
  {
   "cell_type": "code",
   "execution_count": null,
   "metadata": {},
   "outputs": [],
   "source": []
  },
  {
   "cell_type": "code",
   "execution_count": null,
   "metadata": {},
   "outputs": [],
   "source": []
  },
  {
   "cell_type": "code",
   "execution_count": null,
   "metadata": {},
   "outputs": [],
   "source": []
  },
  {
   "cell_type": "code",
   "execution_count": 87,
   "metadata": {},
   "outputs": [
    {
     "data": {
      "text/plain": [
       "36.0"
      ]
     },
     "execution_count": 87,
     "metadata": {},
     "output_type": "execute_result"
    }
   ],
   "source": [
    "floor((5*(sqrt(3)*a_Pt_ang/3))*1.88973 +15)"
   ]
  },
  {
   "cell_type": "code",
   "execution_count": null,
   "metadata": {},
   "outputs": [],
   "source": []
  },
  {
   "cell_type": "code",
   "execution_count": null,
   "metadata": {},
   "outputs": [],
   "source": []
  },
  {
   "cell_type": "code",
   "execution_count": null,
   "metadata": {},
   "outputs": [],
   "source": []
  },
  {
   "cell_type": "code",
   "execution_count": 88,
   "metadata": {},
   "outputs": [
    {
     "data": {
      "text/plain": [
       "0.08218404342036"
      ]
     },
     "execution_count": 88,
     "metadata": {},
     "output_type": "execute_result"
    }
   ],
   "source": [
    "#distance to platinum\n",
    "Dis_ang=.186*10 #literature value in angstrom\n",
    "Dis=Dis_ang/a_Pt_ang3 #in fractional coordinates \n",
    "\n",
    "\n",
    "#summing the position of the central atom in the top most layer of  the surface\n",
    "\n",
    "Dis"
   ]
  },
  {
   "cell_type": "code",
   "execution_count": 89,
   "metadata": {},
   "outputs": [],
   "source": [
    "Ionpos_Formaldehyde_ppp=Ionpos_Formaldehyde_pp+np.array([0,0,Dis-0.049])+np.array([0.5,0.5, 0.2001]) #substracting top carbon pos after rescaling to 6 separation layers then adding top PT and bond distance from literature\n",
    "Ionpos_Methanediol_ppp=Ionpos_Methanediol_pp+np.array([0,0,Dis-0.049  ])+np.array([0.5,0.5, 0.2001]) #substracting top carbon pos then adding top PT and bond distance from literature\n",
    "Ionpos_Formic_acid_ppp=Ionpos_Formic_acid_pp+np.array([0,0,Dis ])+np.array([0.5,0.5,1.4*0.2001])\n",
    "Ionpos_CO2_ppp=Ionpos_CO2_pp+np.array([0,0,Dis ])+np.array([0.5,0.5,1.4*0.2001])"
   ]
  },
  {
   "cell_type": "code",
   "execution_count": 90,
   "metadata": {},
   "outputs": [
    {
     "name": "stdout",
     "output_type": "stream",
     "text": [
      "ion O 0.292 0.444 0.311  1\n",
      "ion C 0.500 0.500 0.282  1\n",
      "ion H 0.700 0.554 0.303  1\n",
      "ion H 0.500 0.500 0.233  1\n",
      "__________________________\n",
      "ion O 0.406 0.226 0.303  1\n",
      "ion O 0.775 0.676 0.303  1\n",
      "ion C 0.500 0.500 0.281  1\n",
      "ion H 0.363 0.574 0.297  1\n",
      "ion H 0.500 0.500 0.233  1\n",
      "ion H 0.217 0.112 0.287  1\n",
      "ion H 0.831 0.862 0.287  1\n",
      "__________________________\n",
      "ion H 0.649 0.425 0.362  1\n",
      "ion C 0.500 0.500 0.362  1\n",
      "ion O 0.248 0.372 0.362  1\n",
      "ion O 0.626 0.780 0.362  1\n",
      "ion H 0.494 0.842 0.362  1\n",
      "__________________________\n",
      "ion C 0.500 0.500 0.362  1\n",
      "ion O 0.438 0.267 0.362  1\n",
      "ion O 0.562 0.733 0.362  1\n"
     ]
    }
   ],
   "source": [
    "for i in range(len(Ionpos_Formaldehyde_ppp)):\n",
    "    print('ion '+ions_Formaldehyde[i], end=' ' )\n",
    "    for j in range(len(Ionpos_Formaldehyde_ppp[i])):\n",
    "        print(\"%.3f\" % Ionpos_Formaldehyde_ppp[i][j], end = ' ')\n",
    "    print(' 1')\n",
    "print('__________________________')\n",
    "for i in range(len(Ionpos_Methanediol_ppp)):\n",
    "    print('ion '+ions_Methanediol[i], end=' ' )\n",
    "    for j in range(len(Ionpos_Methanediol_ppp[i])):\n",
    "        print(\"%.3f\" % Ionpos_Methanediol_ppp[i][j], end = ' ')\n",
    "    print(' 1')\n",
    "print('__________________________')\n",
    "for i in range(len(Ionpos_Formic_acid_ppp)):\n",
    "    print('ion '+ions_Formic_acid[i], end=' ' )\n",
    "    for j in range(len(Ionpos_Formic_acid_ppp[i])):\n",
    "        print(\"%.3f\" % Ionpos_Formic_acid_ppp[i][j], end = ' ')\n",
    "    print(' 1')\n",
    "print('__________________________')\n",
    "for i in range(len(Ionpos_CO2_ppp)):\n",
    "    print('ion '+ions_CO2[i], end=' ' )\n",
    "    for j in range(len(Ionpos_CO2_ppp[i])):\n",
    "        print(\"%.3f\" % Ionpos_CO2_ppp[i][j], end = ' ')\n",
    "    print(' 1') "
   ]
  },
  {
   "cell_type": "code",
   "execution_count": null,
   "metadata": {},
   "outputs": [],
   "source": []
  },
  {
   "cell_type": "code",
   "execution_count": null,
   "metadata": {},
   "outputs": [],
   "source": []
  },
  {
   "cell_type": "markdown",
   "metadata": {},
   "source": [
    "ion Pt 0.000 0.000 -0.200 1\n",
    "ion Pt 0.500 0.500 -0.200 1\n",
    "ion Pt 0.000 0.50 -0.200 1\n",
    "ion Pt 0.50 0.000 -0.200 1\n",
    "ion Pt 0.750 0.250 -0.100 1 \n",
    "ion Pt 0.250 0.750 -0.100 1\n",
    "ion Pt 0.250 0.250 -0.100 1\n",
    "ion Pt 0.750 0.750 -0.100 1\n",
    "ion Pt 0.50 0.000 0.000 1\n",
    "ion Pt 0.000 0.000 0.000 1 \n",
    "ion Pt 0.000 0.50 0.000 1 \n",
    "ion Pt 0.500 0.50 0.000 1 \n",
    "ion Pt 0.750 0.250 0.100 1 \n",
    "ion Pt 0.250 0.750 0.100 1\n",
    "ion Pt 0.250 0.250 0.100 1\n",
    "ion Pt 0.750 0.750 0.100 1\n",
    "ion Pt 0.000 0.000 0.200 1\n",
    "ion Pt 0.000 0.50 0.200 1\n",
    "ion Pt 0.50 0.000 0.200 1\n",
    "ion Pt 0.50 0.50 0.200 1"
   ]
  },
  {
   "cell_type": "code",
   "execution_count": 91,
   "metadata": {},
   "outputs": [
    {
     "data": {
      "text/plain": [
       "array([-0.14285714, -0.07142857,  0.        ,  0.07142857,  0.14285714])"
      ]
     },
     "execution_count": 91,
     "metadata": {},
     "output_type": "execute_result"
    }
   ],
   "source": [
    "np.array([-0.2,-0.1,0,.1,.2])*5/7"
   ]
  },
  {
   "cell_type": "markdown",
   "metadata": {},
   "source": [
    "ion Pt 0.000 0.000 -0.1428 1\n",
    "ion Pt 0.500 0.500 -0.1428 1\n",
    "ion Pt 0.000 0.50 -0.1428 1\n",
    "ion Pt 0.50 0.000 -0.1428 1\n",
    "ion Pt 0.750 0.250 -0.0714 1 \n",
    "ion Pt 0.250 0.750 -0.0714 1\n",
    "ion Pt 0.250 0.250 -0.0714 1\n",
    "ion Pt 0.750 0.750 -0.0714 1\n",
    "ion Pt 0.50 0.000 0.000 1\n",
    "ion Pt 0.000 0.000 0.000 1 \n",
    "ion Pt 0.000 0.50 0.000 1 \n",
    "ion Pt 0.500 0.50 0.000 1 \n",
    "ion Pt 0.750 0.250 0.0714 1 \n",
    "ion Pt 0.250 0.750 0.0714 1\n",
    "ion Pt 0.250 0.250 0.0714 1\n",
    "ion Pt 0.750 0.750 0.0714 1\n",
    "ion Pt 0.000 0.000 0.1428 1\n",
    "ion Pt 0.000 0.50 0.1428 1\n",
    "ion Pt 0.50 0.000 0.1428 1\n",
    "ion Pt 0.50 0.50 0.1428 1"
   ]
  },
  {
   "cell_type": "code",
   "execution_count": 92,
   "metadata": {},
   "outputs": [
    {
     "data": {
      "text/plain": [
       "array([-0.15594167, -0.07797083,  0.        ,  0.07797083,  0.15594167])"
      ]
     },
     "execution_count": 92,
     "metadata": {},
     "output_type": "execute_result"
    }
   ],
   "source": [
    "#for six layer unit cell\n",
    "np.array([-0.187130,-0.093565,0.000000,0.093565,0.187130])*5/6"
   ]
  },
  {
   "cell_type": "markdown",
   "metadata": {},
   "source": [
    "ion Pt 0.000 0.000 -0.1667 1\n",
    "ion Pt 0.500 0.500 -0.1667 1\n",
    "ion Pt 0.000 0.50 -0.1667 1\n",
    "ion Pt 0.50 0.000 -0.1667 1\n",
    "ion Pt 0.750 0.250 -0.0833 1 \n",
    "ion Pt 0.250 0.750 -0.0833 1\n",
    "ion Pt 0.250 0.250 -0.0833 1\n",
    "ion Pt 0.750 0.750 -0.0833 1\n",
    "ion Pt 0.50 0.000 0.000 1\n",
    "ion Pt 0.000 0.000 0.000 1 \n",
    "ion Pt 0.000 0.50 0.000 1 \n",
    "ion Pt 0.500 0.50 0.000 1 \n",
    "ion Pt 0.750 0.250 0.0833 1 \n",
    "ion Pt 0.250 0.750 0.0833 1\n",
    "ion Pt 0.250 0.250 0.0833 1\n",
    "ion Pt 0.750 0.750 0.0833 1\n",
    "ion Pt 0.000 0.000 0.1428 1\n",
    "ion Pt 0.000 0.50 0.1667 1\n",
    "ion Pt 0.50 0.000 0.1667 1\n",
    "ion Pt 0.50 0.50 0.1667 1"
   ]
  },
  {
   "cell_type": "code",
   "execution_count": 93,
   "metadata": {},
   "outputs": [
    {
     "name": "stdout",
     "output_type": "stream",
     "text": [
      "0.33148716593053934\n"
     ]
    }
   ],
   "source": [
    "#for the carbon monoxide attached to the surface\n",
    "OCdist=1.12/a_Pt_ang3\n",
    "print(OCdist+0.282 )\n"
   ]
  },
  {
   "cell_type": "code",
   "execution_count": 94,
   "metadata": {},
   "outputs": [
    {
     "data": {
      "text/plain": [
       "0.04948716593053936"
      ]
     },
     "execution_count": 94,
     "metadata": {},
     "output_type": "execute_result"
    }
   ],
   "source": [
    "OCdist"
   ]
  },
  {
   "cell_type": "code",
   "execution_count": 95,
   "metadata": {},
   "outputs": [
    {
     "data": {
      "text/plain": [
       "22.632130552233328"
      ]
     },
     "execution_count": 95,
     "metadata": {},
     "output_type": "execute_result"
    }
   ],
   "source": [
    "a_Pt_ang3\n"
   ]
  },
  {
   "cell_type": "code",
   "execution_count": 96,
   "metadata": {},
   "outputs": [
    {
     "name": "stdout",
     "output_type": "stream",
     "text": [
      "[[ 0.3333335  0.1666665  0.262324 ]\n",
      " [ 0.3333335  0.6666665  0.262324 ]\n",
      " [ 0.8333335  0.1666665  0.262324 ]\n",
      " [ 0.8333335  0.6666665  0.262324 ]\n",
      " [-0.        -0.         0.321743 ]\n",
      " [ 0.         0.5        0.321743 ]\n",
      " [ 0.         1.         0.321743 ]\n",
      " [ 0.5       -0.         0.321743 ]\n",
      " [ 0.5        0.5        0.321743 ]\n",
      " [ 0.5        1.         0.321743 ]\n",
      " [ 1.        -0.         0.321743 ]\n",
      " [ 1.         0.5        0.321743 ]\n",
      " [ 1.         1.         0.321743 ]\n",
      " [ 0.1666665  0.3333335  0.381162 ]\n",
      " [ 0.1666665  0.8333335  0.381162 ]\n",
      " [ 0.6666665  0.3333335  0.381162 ]\n",
      " [ 0.6666665  0.8333335  0.381162 ]\n",
      " [ 0.3333335  0.1666665  0.440581 ]\n",
      " [ 0.3333335  0.6666665  0.440581 ]\n",
      " [ 0.8333335  0.1666665  0.440581 ]\n",
      " [ 0.8333335  0.6666665  0.440581 ]\n",
      " [ 0.         0.         0.       ]\n",
      " [-0.        -0.         0.5      ]\n",
      " [ 0.         0.5        0.       ]\n",
      " [ 0.         0.5        0.5      ]\n",
      " [ 0.         1.         0.       ]\n",
      " [ 0.         1.         0.5      ]\n",
      " [ 0.5        0.         0.       ]\n",
      " [ 0.5       -0.         0.5      ]\n",
      " [ 0.5        0.5        0.       ]\n",
      " [ 0.5        0.5        0.5      ]\n",
      " [ 0.5        1.         0.       ]\n",
      " [ 0.5        1.         0.5      ]\n",
      " [ 1.         0.         0.       ]\n",
      " [ 1.        -0.         0.5      ]\n",
      " [ 1.         0.5        0.       ]\n",
      " [ 1.         0.5        0.5      ]\n",
      " [ 1.         1.         0.       ]\n",
      " [ 1.         1.         0.5      ]] 39.0\n"
     ]
    }
   ],
   "source": [
    "Ptpos=loadtxt('fracpos.dat')\n",
    "print(Ptpos/2, size(Ptpos)/3)"
   ]
  },
  {
   "cell_type": "code",
   "execution_count": 97,
   "metadata": {},
   "outputs": [],
   "source": [
    "Ptpos=(dot(bmat(diag([1/2,1/2,1])),Ptpos.T)).T"
   ]
  },
  {
   "cell_type": "code",
   "execution_count": 98,
   "metadata": {},
   "outputs": [
    {
     "name": "stdout",
     "output_type": "stream",
     "text": [
      "[[0.       1.       0.643486]]\n",
      "[[0.5      1.       0.643486]]\n",
      "[[1.       0.       0.643486]]\n",
      "[[1.       0.5      0.643486]]\n",
      "[[1.       1.       0.643486]]\n",
      "[[0. 0. 1.]]\n",
      "[[0.  0.5 1. ]]\n",
      "[[0. 1. 0.]]\n",
      "[[0. 1. 1.]]\n",
      "[[0.5 0.  1. ]]\n",
      "[[0.5 0.5 1. ]]\n",
      "[[0.5 1.  0. ]]\n",
      "[[0.5 1.  1. ]]\n",
      "[[1. 0. 0.]]\n",
      "[[1. 0. 1.]]\n",
      "[[1.  0.5 0. ]]\n",
      "[[1.  0.5 1. ]]\n",
      "[[1. 1. 0.]]\n",
      "[[1. 1. 1.]]\n"
     ]
    }
   ],
   "source": [
    "postPt=[]\n",
    "for i in Ptpos:\n",
    "    \n",
    "    if 1. in i:\n",
    "        print(i)\n",
    "    else:\n",
    "        postPt.append(array(i)[0])"
   ]
  },
  {
   "cell_type": "code",
   "execution_count": null,
   "metadata": {},
   "outputs": [],
   "source": []
  },
  {
   "cell_type": "code",
   "execution_count": 99,
   "metadata": {},
   "outputs": [
    {
     "name": "stdout",
     "output_type": "stream",
     "text": [
      "ion Pt 0.3333 0.1667 0.5246 1 \n",
      "\n",
      "ion Pt 0.3333 0.6667 0.5246 1 \n",
      "\n",
      "ion Pt 0.8333 0.1667 0.5246 1 \n",
      "\n",
      "ion Pt 0.8333 0.6667 0.5246 1 \n",
      "\n",
      "ion Pt 0.0000 0.0000 0.6435 1 \n",
      "\n",
      "ion Pt 0.0000 0.5000 0.6435 1 \n",
      "\n",
      "ion Pt 0.5000 0.0000 0.6435 1 \n",
      "\n",
      "ion Pt 0.5000 0.5000 0.6435 1 \n",
      "\n",
      "ion Pt 0.1667 0.3333 0.7623 1 \n",
      "\n",
      "ion Pt 0.1667 0.8333 0.7623 1 \n",
      "\n",
      "ion Pt 0.6667 0.3333 0.7623 1 \n",
      "\n",
      "ion Pt 0.6667 0.8333 0.7623 1 \n",
      "\n",
      "ion Pt 0.3333 0.1667 0.8812 1 \n",
      "\n",
      "ion Pt 0.3333 0.6667 0.8812 1 \n",
      "\n",
      "ion Pt 0.8333 0.1667 0.8812 1 \n",
      "\n",
      "ion Pt 0.8333 0.6667 0.8812 1 \n",
      "\n",
      "ion Pt 0.0000 0.0000 0.0000 1 \n",
      "\n",
      "ion Pt 0.0000 0.5000 0.0000 1 \n",
      "\n",
      "ion Pt 0.5000 0.0000 0.0000 1 \n",
      "\n",
      "ion Pt 0.5000 0.5000 0.0000 1 \n",
      "\n"
     ]
    }
   ],
   "source": [
    "for i in range(len(postPt)):\n",
    "    print('ion Pt', end=' ' )\n",
    "    for j in range(size(postPt[i])):\n",
    "        print(\"%.4f\" % postPt[i][j], end = ' ')\n",
    "    print('1 \\n')"
   ]
  },
  {
   "cell_type": "markdown",
   "metadata": {},
   "source": [
    "In case shit hits the fan\n",
    "\n",
    "ion Pt -0.333333  0.333333 -0.475352   1\n",
    "ion Pt  0.000000  0.000000 -0.356514   1\n",
    "ion Pt  0.333333 -0.333333 -0.237676   1\n",
    "ion Pt -0.333333  0.333333 -0.118838   1\n",
    "ion Pt  0.000000  0.000000  0.000000   1"
   ]
  },
  {
   "cell_type": "code",
   "execution_count": 100,
   "metadata": {},
   "outputs": [],
   "source": [
    "import statistics\n",
    "postPt=array(postPt)\n",
    "postPt[-4:,2]=postPt[-4:,2]+1\n",
    "centval=statistics.median(array(postPt)[:,2])\n",
    "postPt[:,2]=postPt[:,2]-centval\n",
    "\n",
    "Ptcoords=(array(dot(diag([1,1,floor((5*(sqrt(3)*a_Pt_ang/3))*1.88973 +15)/(a_Pt_ang3*1.88973)]),mat(postPt).T).T)) \n",
    "#Ptcoords=list(array(dot(diag([1,1,1]),mat(postPt).T).T)) \n",
    "centval=statistics.median((Ptcoords)[:,2])\n",
    "#Ptcoords[:,2]=Ptcoords[:,2]-max((Ptcoords)[:,2])\n",
    "## the weird expression \n",
    "#in the denominator is shankars choice \n",
    "#for cleaving the surface, leaving a 15 bohr separation between slabs and 5 layers of thickness sqrt3*a/3 each\n",
    "## I work first in angstrom and that is why I put the 1.88973\n"
   ]
  },
  {
   "cell_type": "code",
   "execution_count": 101,
   "metadata": {},
   "outputs": [
    {
     "data": {
      "text/plain": [
       "array([[ 0.3333335 ,  0.1666665 , -0.20006109],\n",
       "       [ 0.3333335 ,  0.6666665 , -0.20006109],\n",
       "       [ 0.8333335 ,  0.1666665 , -0.20006109],\n",
       "       [ 0.8333335 ,  0.6666665 , -0.20006109],\n",
       "       [ 0.        ,  0.        , -0.10003055],\n",
       "       [ 0.        ,  0.5       , -0.10003055],\n",
       "       [ 0.5       ,  0.        , -0.10003055],\n",
       "       [ 0.5       ,  0.5       , -0.10003055],\n",
       "       [ 0.1666665 ,  0.3333335 ,  0.        ],\n",
       "       [ 0.1666665 ,  0.8333335 ,  0.        ],\n",
       "       [ 0.6666665 ,  0.3333335 ,  0.        ],\n",
       "       [ 0.6666665 ,  0.8333335 ,  0.        ],\n",
       "       [ 0.3333335 ,  0.1666665 ,  0.10003055],\n",
       "       [ 0.3333335 ,  0.6666665 ,  0.10003055],\n",
       "       [ 0.8333335 ,  0.1666665 ,  0.10003055],\n",
       "       [ 0.8333335 ,  0.6666665 ,  0.10003055],\n",
       "       [ 0.        ,  0.        ,  0.20006109],\n",
       "       [ 0.        ,  0.5       ,  0.20006109],\n",
       "       [ 0.5       ,  0.        ,  0.20006109],\n",
       "       [ 0.5       ,  0.5       ,  0.20006109]])"
      ]
     },
     "execution_count": 101,
     "metadata": {},
     "output_type": "execute_result"
    }
   ],
   "source": [
    "Ptcoords"
   ]
  },
  {
   "cell_type": "code",
   "execution_count": 102,
   "metadata": {},
   "outputs": [
    {
     "name": "stdout",
     "output_type": "stream",
     "text": [
      "ion Pt 0.3333 0.1667 -0.2001 1 \n",
      "ion Pt 0.3333 0.6667 -0.2001 1 \n",
      "ion Pt 0.8333 0.1667 -0.2001 1 \n",
      "ion Pt 0.8333 0.6667 -0.2001 1 \n",
      "ion Pt 0.0000 0.0000 -0.1000 1 \n",
      "ion Pt 0.0000 0.5000 -0.1000 1 \n",
      "ion Pt 0.5000 0.0000 -0.1000 1 \n",
      "ion Pt 0.5000 0.5000 -0.1000 1 \n",
      "ion Pt 0.1667 0.3333 0.0000 1 \n",
      "ion Pt 0.1667 0.8333 0.0000 1 \n",
      "ion Pt 0.6667 0.3333 0.0000 1 \n",
      "ion Pt 0.6667 0.8333 0.0000 1 \n",
      "ion Pt 0.3333 0.1667 0.1000 1 \n",
      "ion Pt 0.3333 0.6667 0.1000 1 \n",
      "ion Pt 0.8333 0.1667 0.1000 1 \n",
      "ion Pt 0.8333 0.6667 0.1000 1 \n",
      "ion Pt 0.0000 0.0000 0.2001 1 \n",
      "ion Pt 0.0000 0.5000 0.2001 1 \n",
      "ion Pt 0.5000 0.0000 0.2001 1 \n",
      "ion Pt 0.5000 0.5000 0.2001 1 \n"
     ]
    }
   ],
   "source": [
    "for i in range(len(Ptcoords)):\n",
    "    print('ion Pt', end=' ' )\n",
    "    for j in range(size(Ptcoords[i])):\n",
    "        print(\"%.4f\" % Ptcoords[i][j], end = ' ')\n",
    "    print('1 ')"
   ]
  },
  {
   "cell_type": "code",
   "execution_count": 103,
   "metadata": {},
   "outputs": [
    {
     "data": {
      "text/plain": [
       "0.0"
      ]
     },
     "execution_count": 103,
     "metadata": {},
     "output_type": "execute_result"
    }
   ],
   "source": [
    "centval"
   ]
  },
  {
   "cell_type": "code",
   "execution_count": null,
   "metadata": {},
   "outputs": [],
   "source": []
  },
  {
   "cell_type": "code",
   "execution_count": null,
   "metadata": {},
   "outputs": [],
   "source": []
  }
 ],
 "metadata": {
  "kernelspec": {
   "display_name": "Python 3",
   "language": "python",
   "name": "python3"
  },
  "language_info": {
   "codemirror_mode": {
    "name": "ipython",
    "version": 3
   },
   "file_extension": ".py",
   "mimetype": "text/x-python",
   "name": "python",
   "nbconvert_exporter": "python",
   "pygments_lexer": "ipython3",
   "version": "3.7.0"
  }
 },
 "nbformat": 4,
 "nbformat_minor": 2
}
