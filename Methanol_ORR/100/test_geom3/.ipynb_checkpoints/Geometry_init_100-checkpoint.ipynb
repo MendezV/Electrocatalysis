{
 "cells": [
  {
   "cell_type": "code",
   "execution_count": 1,
   "metadata": {},
   "outputs": [
    {
     "name": "stdout",
     "output_type": "stream",
     "text": [
      "Populating the interactive namespace from numpy and matplotlib\n"
     ]
    }
   ],
   "source": [
    "%pylab inline"
   ]
  },
  {
   "cell_type": "code",
   "execution_count": 2,
   "metadata": {},
   "outputs": [],
   "source": [
    "Ionpos_Methanediol_ang_nc=[[ 1.35170 ,  -0.08370,    0.00000  ], \n",
    "                    [-0.52950,    1.24650 ,  -0.00000  ], \n",
    "                    [-0.06950,   -0.09830,   -0.00000  ],\n",
    "                    [-0.43450 ,  -0.61450  ,  0.88910  ],\n",
    "                    [-0.43450 ,  -0.61450 ,  -0.88910 ],\n",
    "                    [1.62470 ,  -1.02540  ,  0.00000  ],\n",
    "                    [-1.50830 ,   1.19000  ,  0.00000]]\n",
    "ions_Methanediol=['O','O','C','H','H','H','H']"
   ]
  },
  {
   "cell_type": "code",
   "execution_count": 3,
   "metadata": {},
   "outputs": [
    {
     "name": "stdout",
     "output_type": "stream",
     "text": [
      "[[ 1.7862  0.5308  0.8891]\n",
      " [-0.095   1.861   0.8891]\n",
      " [ 0.365   0.5162  0.8891]\n",
      " [ 0.      0.      1.7782]\n",
      " [ 0.      0.      0.    ]\n",
      " [ 2.0592 -0.4109  0.8891]\n",
      " [-1.0738  1.8045  0.8891]]\n"
     ]
    }
   ],
   "source": [
    "Ionpos_Methanediol_ang_nr= Ionpos_Methanediol_ang_nc-np.array([-0.43450 ,  -0.61450 ,  -0.88910])\n",
    "print(Ionpos_Methanediol_ang_nr)"
   ]
  },
  {
   "cell_type": "code",
   "execution_count": 4,
   "metadata": {},
   "outputs": [],
   "source": [
    "b=np.mat([0,0,1])\n",
    "a=np.mat([ 0.365 ,  0.5162 , 0.8891])\n",
    "a=a/np.sqrt(np.dot(a,a.T))\n",
    "c=np.dot(a,b.T)\n",
    "v=np.cross(a,b)[0]\n",
    "s=np.sqrt(np.dot(v,v.T))\n",
    "y = np.mat([[0, -v[2], v[1]], [v[2], 0, -v[0]], [-v[1], v[0], 0]])\n",
    "\n",
    "Rot_Methanediol=np.mat(np.diag([1,1,1]))+y+np.dot(y,y)*(((1-c)/s**2)[0,0])\n",
    "Ionpos_Methanediol_ang=np.array(np.dot(Rot_Methanediol,np.mat(Ionpos_Methanediol_ang_nr.T))).T"
   ]
  },
  {
   "cell_type": "code",
   "execution_count": 5,
   "metadata": {},
   "outputs": [],
   "source": [
    " Ionpos_Formaldehyde_ang_nc=np.array([[ 0.000000   ,  .000000   ,  .683501],\n",
    "            [.000000   ,  .000000 ,   -.536614],\n",
    "            [.000000  ,   .934390  , -1.124164],\n",
    "            [.000000  ,  -.934390  , -1.124164]])\n",
    "ions_Formaldehyde=['O','C','H','H']"
   ]
  },
  {
   "cell_type": "code",
   "execution_count": 6,
   "metadata": {},
   "outputs": [
    {
     "name": "stdout",
     "output_type": "stream",
     "text": [
      "[[0.       0.93439  1.807665]\n",
      " [0.       0.93439  0.58755 ]\n",
      " [0.       1.86878  0.      ]\n",
      " [0.       0.       0.      ]]\n"
     ]
    }
   ],
   "source": [
    "Ionpos_Formaldehyde_ang_nr= Ionpos_Formaldehyde_ang_nc-np.array([.000000  ,  -.934390  , -1.124164])\n",
    "print(Ionpos_Formaldehyde_ang_nr)"
   ]
  },
  {
   "cell_type": "code",
   "execution_count": 7,
   "metadata": {},
   "outputs": [],
   "source": [
    "b=np.mat([0,0,1])\n",
    "a=np.mat([0.     ,  0.93439 , 0.58755 ])\n",
    "a=a/np.sqrt(np.dot(a,a.T))\n",
    "c=np.dot(a,b.T)\n",
    "v=np.cross(a,b)[0]\n",
    "s=np.sqrt(np.dot(v,v.T))\n",
    "y = np.mat([[0, -v[2], v[1]], [v[2], 0, -v[0]], [-v[1], v[0], 0]])\n",
    "\n",
    "Rot_Formaldehyde=np.mat(np.diag([1,1,1]))+y+np.dot(y,y)*(((1-c)/s**2)[0,0])\n",
    "Ionpos_Formaldehyde_ang=np.array(np.dot(Rot_Formaldehyde,np.mat(Ionpos_Formaldehyde_ang_nr.T))).T\n"
   ]
  },
  {
   "cell_type": "code",
   "execution_count": 8,
   "metadata": {},
   "outputs": [
    {
     "name": "stdout",
     "output_type": "stream",
     "text": [
      "[0.   0.25] [0.   0.25] [-0.2 -0.1  0.   0.1  0.2]\n"
     ]
    }
   ],
   "source": [
    "\n",
    "Coords1=(np.linspace(0,0.5,2))/2\n",
    "Coords2=(np.linspace(0,0.5,2))/2\n",
    "Coords3=(np.linspace(-0.2,.2,5))\n",
    "print(Coords1,Coords2,Coords3)"
   ]
  },
  {
   "cell_type": "code",
   "execution_count": 9,
   "metadata": {},
   "outputs": [],
   "source": [
    "Ionpos_Pt=[[i,j,k] for i in Coords1 for j in Coords2 for k in Coords3]\n",
    "ions_Pt=['Pt' for i in range(len(Ionpos_Pt))]"
   ]
  },
  {
   "cell_type": "code",
   "execution_count": 10,
   "metadata": {},
   "outputs": [
    {
     "name": "stdout",
     "output_type": "stream",
     "text": [
      "Ion Pt 0.000 0.000 -0.200 \n",
      "\n",
      "Ion Pt 0.000 0.000 -0.100 \n",
      "\n",
      "Ion Pt 0.000 0.000 0.000 \n",
      "\n",
      "Ion Pt 0.000 0.000 0.100 \n",
      "\n",
      "Ion Pt 0.000 0.000 0.200 \n",
      "\n",
      "Ion Pt 0.000 0.250 -0.200 \n",
      "\n",
      "Ion Pt 0.000 0.250 -0.100 \n",
      "\n",
      "Ion Pt 0.000 0.250 0.000 \n",
      "\n",
      "Ion Pt 0.000 0.250 0.100 \n",
      "\n",
      "Ion Pt 0.000 0.250 0.200 \n",
      "\n",
      "Ion Pt 0.250 0.000 -0.200 \n",
      "\n",
      "Ion Pt 0.250 0.000 -0.100 \n",
      "\n",
      "Ion Pt 0.250 0.000 0.000 \n",
      "\n",
      "Ion Pt 0.250 0.000 0.100 \n",
      "\n",
      "Ion Pt 0.250 0.000 0.200 \n",
      "\n",
      "Ion Pt 0.250 0.250 -0.200 \n",
      "\n",
      "Ion Pt 0.250 0.250 -0.100 \n",
      "\n",
      "Ion Pt 0.250 0.250 0.000 \n",
      "\n",
      "Ion Pt 0.250 0.250 0.100 \n",
      "\n",
      "Ion Pt 0.250 0.250 0.200 \n",
      "\n"
     ]
    }
   ],
   "source": [
    "for i in range(len(Ionpos_Pt)):\n",
    "    print('Ion '+ions_Pt[i], end=' ' )\n",
    "    for j in range(len(Ionpos_Pt[i])):\n",
    "        print(\"%.3f\" % Ionpos_Pt[i][j], end = ' ')\n",
    "    print('\\n')"
   ]
  },
  {
   "cell_type": "code",
   "execution_count": 11,
   "metadata": {},
   "outputs": [
    {
     "name": "stdout",
     "output_type": "stream",
     "text": [
      "[0.  0.5] [0.  0.5] [-0.2 -0.1  0.   0.1  0.2]\n"
     ]
    }
   ],
   "source": [
    "Coords1=(np.linspace(0,0.5,2))\n",
    "Coords2=(np.linspace(0,0.5,2))\n",
    "Coords3=(np.linspace(-0.2,.2,5))\n",
    "print(Coords1,Coords2,Coords3)"
   ]
  },
  {
   "cell_type": "code",
   "execution_count": 12,
   "metadata": {},
   "outputs": [],
   "source": [
    "Ionpos_Pt=[[i,j,k] for i in Coords1 for j in Coords2 for k in Coords3]\n",
    "ions_Pt=['Pt' for i in range(len(Ionpos_Pt))]"
   ]
  },
  {
   "cell_type": "code",
   "execution_count": 13,
   "metadata": {},
   "outputs": [
    {
     "name": "stdout",
     "output_type": "stream",
     "text": [
      "Ion Pt 0.000 0.000 -0.200 \n",
      "\n",
      "Ion Pt 0.000 0.000 -0.100 \n",
      "\n",
      "Ion Pt 0.000 0.000 0.000 \n",
      "\n",
      "Ion Pt 0.000 0.000 0.100 \n",
      "\n",
      "Ion Pt 0.000 0.000 0.200 \n",
      "\n",
      "Ion Pt 0.000 0.500 -0.200 \n",
      "\n",
      "Ion Pt 0.000 0.500 -0.100 \n",
      "\n",
      "Ion Pt 0.000 0.500 0.000 \n",
      "\n",
      "Ion Pt 0.000 0.500 0.100 \n",
      "\n",
      "Ion Pt 0.000 0.500 0.200 \n",
      "\n",
      "Ion Pt 0.500 0.000 -0.200 \n",
      "\n",
      "Ion Pt 0.500 0.000 -0.100 \n",
      "\n",
      "Ion Pt 0.500 0.000 0.000 \n",
      "\n",
      "Ion Pt 0.500 0.000 0.100 \n",
      "\n",
      "Ion Pt 0.500 0.000 0.200 \n",
      "\n",
      "Ion Pt 0.500 0.500 -0.200 \n",
      "\n",
      "Ion Pt 0.500 0.500 -0.100 \n",
      "\n",
      "Ion Pt 0.500 0.500 0.000 \n",
      "\n",
      "Ion Pt 0.500 0.500 0.100 \n",
      "\n",
      "Ion Pt 0.500 0.500 0.200 \n",
      "\n"
     ]
    }
   ],
   "source": [
    "for i in range(len(Ionpos_Pt)):\n",
    "    print('Ion '+ions_Pt[i], end=' ' )\n",
    "    for j in range(len(Ionpos_Pt[i])):\n",
    "        print(\"%.3f\" % Ionpos_Pt[i][j], end = ' ')\n",
    "    print('\\n')"
   ]
  },
  {
   "cell_type": "code",
   "execution_count": 14,
   "metadata": {},
   "outputs": [
    {
     "name": "stdout",
     "output_type": "stream",
     "text": [
      "Ion O 0.000 -1.033 1.753 \n",
      "\n",
      "Ion C 0.000 0.000 1.104 \n",
      "\n",
      "Ion H 0.000 0.995 1.582 \n",
      "\n",
      "Ion H 0.000 0.000 0.000 \n",
      "\n"
     ]
    }
   ],
   "source": [
    "for i in range(len(Ionpos_Formaldehyde_ang)):\n",
    "    print('Ion '+ions_Formaldehyde[i], end=' ' )\n",
    "    for j in range(len(Ionpos_Formaldehyde_ang[i])):\n",
    "        print(\"%.3f\" % Ionpos_Formaldehyde_ang[i][j], end = ' ')\n",
    "    print('\\n')"
   ]
  },
  {
   "cell_type": "code",
   "execution_count": 15,
   "metadata": {},
   "outputs": [
    {
     "name": "stdout",
     "output_type": "stream",
     "text": [
      "Ion O 1.332 -0.111 1.573 \n",
      "\n",
      "Ion O -0.549 1.219 1.573 \n",
      "\n",
      "Ion C 0.000 0.000 1.091 \n",
      "\n",
      "Ion H -0.595 -0.841 1.449 \n",
      "\n",
      "Ion H 0.000 0.000 0.000 \n",
      "\n",
      "Ion H 1.671 -0.961 1.219 \n",
      "\n",
      "Ion H -1.462 1.255 1.219 \n",
      "\n"
     ]
    }
   ],
   "source": [
    "for i in range(len(Ionpos_Methanediol_ang)):\n",
    "    print('Ion '+ions_Methanediol[i], end=' ' )\n",
    "    for j in range(len(Ionpos_Methanediol_ang[i])):\n",
    "        print(\"%.3f\" % Ionpos_Methanediol_ang[i][j], end = ' ')\n",
    "    print('\\n')"
   ]
  },
  {
   "cell_type": "code",
   "execution_count": 16,
   "metadata": {},
   "outputs": [
    {
     "name": "stdout",
     "output_type": "stream",
     "text": [
      "Ion O 0.000 -1.033 1.753 \n",
      "\n",
      "Ion C 0.000 0.000 1.104 \n",
      "\n",
      "Ion H 0.000 0.995 1.582 \n",
      "\n",
      "Ion H 0.000 0.000 0.000 \n",
      "\n",
      "__________________________\n",
      "Ion O 1.332 -0.111 1.573 \n",
      "\n",
      "Ion O -0.549 1.219 1.573 \n",
      "\n",
      "Ion C 0.000 0.000 1.091 \n",
      "\n",
      "Ion H -0.595 -0.841 1.449 \n",
      "\n",
      "Ion H 0.000 0.000 0.000 \n",
      "\n",
      "Ion H 1.671 -0.961 1.219 \n",
      "\n",
      "Ion H -1.462 1.255 1.219 \n",
      "\n"
     ]
    }
   ],
   "source": [
    "Ionpos_Formaldehyde_p=np.array(Ionpos_Formaldehyde_ang)-array(Ionpos_Formaldehyde_ang[-1])\n",
    "Ionpos_Methanediol_p=np.array(Ionpos_Methanediol_ang)-array(Ionpos_Methanediol_ang[4])\n",
    "for i in range(len(Ionpos_Formaldehyde_p)):\n",
    "    print('Ion '+ions_Formaldehyde[i], end=' ' )\n",
    "    for j in range(len(Ionpos_Formaldehyde_p[i])):\n",
    "        print(\"%.3f\" % Ionpos_Formaldehyde_p[i][j], end = ' ')\n",
    "    print('\\n')\n",
    "print('__________________________')\n",
    "for i in range(len(Ionpos_Methanediol_p)):\n",
    "    print('Ion '+ions_Methanediol[i], end=' ' )\n",
    "    for j in range(len(Ionpos_Methanediol_p[i])):\n",
    "        print(\"%.3f\" % Ionpos_Methanediol_p[i][j], end = ' ')\n",
    "    print('\\n')"
   ]
  },
  {
   "cell_type": "code",
   "execution_count": 17,
   "metadata": {},
   "outputs": [],
   "source": [
    "Ionpos_Formaldehyde_p=Ionpos_Formaldehyde_p #2.05 is the bond length of carbon and Pt\n",
    "Ionpos_Methanediol_p=Ionpos_Methanediol_p"
   ]
  },
  {
   "cell_type": "code",
   "execution_count": 46,
   "metadata": {},
   "outputs": [
    {
     "name": "stdout",
     "output_type": "stream",
     "text": [
      "23.52 10.47612863727537 10.47612863727537 44.446449599999994\n"
     ]
    }
   ],
   "source": [
    "#conversion factors\n",
    "a_Pt=0.392 #nm\n",
    "a_Pt_ang=a_Pt*10 #angstrom\n",
    "a_Pt_ang1=2*a_Pt_ang/sqrt(2) #angstrom\n",
    "a_Pt_ang2=2*a_Pt_ang/sqrt(2)#angstrom\n",
    "a_Pt_ang3=6*a_Pt_ang #angstrom\n",
    "\n",
    "print(a_Pt_ang3,a_Pt_ang1*1.88973,a_Pt_ang2*1.88973,a_Pt_ang3*1.88973)\n",
    "A100_Formaldehyde=np.array([np.ones(len(Ionpos_Formaldehyde_p))*a_Pt_ang1,np.ones(len(Ionpos_Formaldehyde_p))*a_Pt_ang2,np.ones(len(Ionpos_Formaldehyde_p))*a_Pt_ang3])\n",
    "A100_Ionpos_Methanediol=np.array([np.ones(len(Ionpos_Methanediol_p))*a_Pt_ang1,np.ones(len(Ionpos_Methanediol_p))*a_Pt_ang2,np.ones(len(Ionpos_Methanediol_p))*a_Pt_ang3])"
   ]
  },
  {
   "cell_type": "code",
   "execution_count": 32,
   "metadata": {},
   "outputs": [],
   "source": [
    "Ionpos_Formaldehyde_pp=Ionpos_Formaldehyde_p/A100_Formaldehyde.T"
   ]
  },
  {
   "cell_type": "code",
   "execution_count": 33,
   "metadata": {},
   "outputs": [],
   "source": [
    "Ionpos_Methanediol_pp=Ionpos_Methanediol_p/A100_Ionpos_Methanediol.T"
   ]
  },
  {
   "cell_type": "code",
   "execution_count": 39,
   "metadata": {},
   "outputs": [
    {
     "name": "stdout",
     "output_type": "stream",
     "text": [
      "ion O 0.000 -0.186 0.075 1 \n",
      "\n",
      "ion C 0.000 0.000 0.047 1 \n",
      "\n",
      "ion H 0.000 0.179 0.067 1 \n",
      "\n",
      "ion H 0.000 0.000 0.000 1 \n",
      "\n",
      "__________________________\n",
      "ion O 0.240 -0.020 0.067 1 \n",
      "\n",
      "ion O -0.099 0.220 0.067 1 \n",
      "\n",
      "ion C 0.000 0.000 0.046 1 \n",
      "\n",
      "ion H -0.107 -0.152 0.062 1 \n",
      "\n",
      "ion H 0.000 0.000 0.000 1 \n",
      "\n",
      "ion H 0.301 -0.173 0.052 1 \n",
      "\n",
      "ion H -0.264 0.226 0.052 1 \n",
      "\n"
     ]
    }
   ],
   "source": [
    "for i in range(len(Ionpos_Formaldehyde_pp)):\n",
    "    print('ion '+ions_Formaldehyde[i], end=' ' )\n",
    "    for j in range(len(Ionpos_Formaldehyde_pp[i])):\n",
    "        print(\"%.3f\" % Ionpos_Formaldehyde_pp[i][j], end = ' ')\n",
    "    print('1 \\n')\n",
    "print('__________________________')\n",
    "for i in range(len(Ionpos_Methanediol_pp)):\n",
    "    print('ion '+ions_Methanediol[i], end=' ' )\n",
    "    for j in range(len(Ionpos_Methanediol_pp[i])):\n",
    "        print(\"%.3f\" % Ionpos_Methanediol_pp[i][j], end = ' ')\n",
    "    print('1 \\n')"
   ]
  },
  {
   "cell_type": "code",
   "execution_count": null,
   "metadata": {},
   "outputs": [],
   "source": []
  },
  {
   "cell_type": "code",
   "execution_count": null,
   "metadata": {},
   "outputs": [],
   "source": []
  },
  {
   "cell_type": "code",
   "execution_count": null,
   "metadata": {},
   "outputs": [],
   "source": []
  },
  {
   "cell_type": "code",
   "execution_count": null,
   "metadata": {},
   "outputs": [],
   "source": []
  },
  {
   "cell_type": "code",
   "execution_count": null,
   "metadata": {},
   "outputs": [],
   "source": []
  },
  {
   "cell_type": "code",
   "execution_count": null,
   "metadata": {},
   "outputs": [],
   "source": []
  },
  {
   "cell_type": "code",
   "execution_count": null,
   "metadata": {},
   "outputs": [],
   "source": []
  },
  {
   "cell_type": "code",
   "execution_count": null,
   "metadata": {},
   "outputs": [],
   "source": []
  },
  {
   "cell_type": "code",
   "execution_count": 47,
   "metadata": {},
   "outputs": [
    {
     "data": {
      "text/plain": [
       "0.07908163265306122"
      ]
     },
     "execution_count": 47,
     "metadata": {},
     "output_type": "execute_result"
    }
   ],
   "source": [
    "#distance to platinum\n",
    "Dis_ang=.186*10 #literature value in bohr\n",
    "Dis=Dis_ang/(a_Pt_ang3) #in units of the lattice constants \n",
    "\n",
    "\n",
    "#summing the position of the central atom in the top most layer of  the surface\n",
    "\n",
    "Dis"
   ]
  },
  {
   "cell_type": "code",
   "execution_count": 48,
   "metadata": {},
   "outputs": [],
   "source": [
    "Ionpos_Formaldehyde_ppp=Ionpos_Formaldehyde_pp+np.array([0,0,Dis-0.047])+np.array([0.5,0.5,0.1667])\n",
    "Ionpos_Methanediol_ppp=Ionpos_Methanediol_pp+np.array([0,0,Dis-0.047  ])+np.array([0.5,0.5,0.1667])"
   ]
  },
  {
   "cell_type": "code",
   "execution_count": 49,
   "metadata": {},
   "outputs": [
    {
     "name": "stdout",
     "output_type": "stream",
     "text": [
      "ion O 0.500 0.314 0.273  1\n",
      "\n",
      "ion C 0.500 0.500 0.246  1\n",
      "\n",
      "ion H 0.500 0.679 0.266  1\n",
      "\n",
      "ion H 0.500 0.500 0.199  1\n",
      "\n",
      "__________________________\n",
      "ion O 0.740 0.480 0.266  1\n",
      "\n",
      "ion O 0.401 0.720 0.266  1\n",
      "\n",
      "ion C 0.500 0.500 0.245  1\n",
      "\n",
      "ion H 0.393 0.348 0.260  1\n",
      "\n",
      "ion H 0.500 0.500 0.199  1\n",
      "\n",
      "ion H 0.801 0.327 0.251  1\n",
      "\n",
      "ion H 0.236 0.726 0.251  1\n",
      "\n"
     ]
    }
   ],
   "source": [
    "for i in range(len(Ionpos_Formaldehyde_ppp)):\n",
    "    print('ion '+ions_Formaldehyde[i], end=' ' )\n",
    "    for j in range(len(Ionpos_Formaldehyde_ppp[i])):\n",
    "        print(\"%.3f\" % Ionpos_Formaldehyde_ppp[i][j], end = ' ')\n",
    "    print(' 1\\n')\n",
    "print('__________________________')\n",
    "for i in range(len(Ionpos_Methanediol_ppp)):\n",
    "    print('ion '+ions_Methanediol[i], end=' ' )\n",
    "    for j in range(len(Ionpos_Methanediol_ppp[i])):\n",
    "        print(\"%.3f\" % Ionpos_Methanediol_ppp[i][j], end = ' ')\n",
    "    print(' 1\\n')"
   ]
  },
  {
   "cell_type": "code",
   "execution_count": 25,
   "metadata": {},
   "outputs": [
    {
     "data": {
      "text/plain": [
       "3.70910597084521"
      ]
     },
     "execution_count": 25,
     "metadata": {},
     "output_type": "execute_result"
    }
   ],
   "source": [
    "sqrt(sum((Ionpos_Formaldehyde_ppp[1]-Ionpos_Formaldehyde_ppp[0])**2))*5*a_Pt_ang "
   ]
  },
  {
   "cell_type": "code",
   "execution_count": 26,
   "metadata": {},
   "outputs": [
    {
     "data": {
      "text/plain": [
       "1.220115"
      ]
     },
     "execution_count": 26,
     "metadata": {},
     "output_type": "execute_result"
    }
   ],
   "source": [
    "sqrt(sum((np.array(Ionpos_Formaldehyde_ang[1])-np.array(Ionpos_Formaldehyde_ang[0]))**2))"
   ]
  },
  {
   "cell_type": "markdown",
   "metadata": {},
   "source": [
    "ion Pt 0.000 0.000 -0.200 1\n",
    "ion Pt 0.500 0.500 -0.200 1\n",
    "ion Pt 0.000 0.50 -0.200 1\n",
    "ion Pt 0.50 0.000 -0.200 1\n",
    "ion Pt 0.750 0.250 -0.100 1 \n",
    "ion Pt 0.250 0.750 -0.100 1\n",
    "ion Pt 0.250 0.250 -0.100 1\n",
    "ion Pt 0.750 0.750 -0.100 1\n",
    "ion Pt 0.50 0.000 0.000 1\n",
    "ion Pt 0.000 0.000 0.000 1 \n",
    "ion Pt 0.000 0.50 0.000 1 \n",
    "ion Pt 0.500 0.50 0.000 1 \n",
    "ion Pt 0.750 0.250 0.100 1 \n",
    "ion Pt 0.250 0.750 0.100 1\n",
    "ion Pt 0.250 0.250 0.100 1\n",
    "ion Pt 0.750 0.750 0.100 1\n",
    "ion Pt 0.000 0.000 0.200 1\n",
    "ion Pt 0.000 0.50 0.200 1\n",
    "ion Pt 0.50 0.000 0.200 1\n",
    "ion Pt 0.50 0.50 0.200 1"
   ]
  },
  {
   "cell_type": "code",
   "execution_count": 57,
   "metadata": {},
   "outputs": [
    {
     "name": "stdout",
     "output_type": "stream",
     "text": [
      "0.04761904761904762\n"
     ]
    }
   ],
   "source": [
    "#for carbon monoxide \n",
    "CO_dis=0.112*10/(a_Pt_ang3)\n",
    "print(CO_dis)"
   ]
  },
  {
   "cell_type": "markdown",
   "metadata": {},
   "source": [
    "ion Pt 0.000 0.000 -0.1667 1\n",
    "ion Pt 0.500 0.500 -0.1667 1\n",
    "ion Pt 0.000 0.50 -0.1667 1\n",
    "ion Pt 0.50 0.000 -0.1667 1\n",
    "ion Pt 0.750 0.250 -0.0833 1\n",
    "ion Pt 0.250 0.750 -0.0833 1\n",
    "ion Pt 0.250 0.250 -0.0833 1\n",
    "ion Pt 0.750 0.750 -0.0833 1\n",
    "ion Pt 0.50 0.000 0.000 1\n",
    "ion Pt 0.000 0.000 0.000 1\n",
    "ion Pt 0.000 0.50 0.000 1\n",
    "ion Pt 0.500 0.50 0.000 1\n",
    "ion Pt 0.750 0.250 0.0833 1\n",
    "ion Pt 0.250 0.750 0.0833 1\n",
    "ion Pt 0.250 0.250 0.0833 1\n",
    "ion Pt 0.750 0.750 0.0833 1\n",
    "ion Pt 0.000 0.000 0.1667 1\n",
    "ion Pt 0.000 0.50 0.1667 1\n",
    "ion Pt 0.50 0.000 0.1667 1\n",
    "ion Pt 0.50 0.50 0.1667 1"
   ]
  },
  {
   "cell_type": "code",
   "execution_count": 54,
   "metadata": {},
   "outputs": [
    {
     "name": "stdout",
     "output_type": "stream",
     "text": [
      "0.04761904761904762\n",
      "0.2936190476190476\n"
     ]
    }
   ],
   "source": [
    "#for carbon monoxide \n",
    "CO_dis=0.112*10/(a_Pt_ang3)\n",
    "print(CO_dis)\n",
    "print(CO_dis+0.246)"
   ]
  },
  {
   "cell_type": "code",
   "execution_count": null,
   "metadata": {},
   "outputs": [],
   "source": []
  },
  {
   "cell_type": "code",
   "execution_count": null,
   "metadata": {},
   "outputs": [],
   "source": []
  }
 ],
 "metadata": {
  "kernelspec": {
   "display_name": "Python 3",
   "language": "python",
   "name": "python3"
  },
  "language_info": {
   "codemirror_mode": {
    "name": "ipython",
    "version": 3
   },
   "file_extension": ".py",
   "mimetype": "text/x-python",
   "name": "python",
   "nbconvert_exporter": "python",
   "pygments_lexer": "ipython3",
   "version": "3.7.0"
  }
 },
 "nbformat": 4,
 "nbformat_minor": 2
}
