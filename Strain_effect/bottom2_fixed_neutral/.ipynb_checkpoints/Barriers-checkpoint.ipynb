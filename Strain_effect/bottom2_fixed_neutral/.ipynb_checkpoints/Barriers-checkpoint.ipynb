{
 "cells": [
  {
   "cell_type": "code",
   "execution_count": 1,
   "metadata": {},
   "outputs": [
    {
     "data": {
      "text/plain": [
       "CompletedProcess(args=['ls', '-l'], returncode=0)"
      ]
     },
     "execution_count": 1,
     "metadata": {},
     "output_type": "execute_result"
    }
   ],
   "source": [
    "import os\n",
    "import numpy as np\n",
    "import matplotlib.pyplot  as plt \n",
    "import sys\n",
    "import subprocess\n",
    "subprocess.run([\"ls\", \"-l\"])"
   ]
  },
  {
   "cell_type": "code",
   "execution_count": 2,
   "metadata": {},
   "outputs": [
    {
     "data": {
      "text/plain": [
       "0"
      ]
     },
     "execution_count": 2,
     "metadata": {},
     "output_type": "execute_result"
    }
   ],
   "source": [
    "os.system(\"cd 100_0; for i in 100_0-Solvated.out 100_1-Solvated.out 100_4-Solvated.out; do grep 'G =' $i | tail -1; done\")"
   ]
  },
  {
   "cell_type": "code",
   "execution_count": 3,
   "metadata": {},
   "outputs": [
    {
     "data": {
      "text/plain": [
       "0"
      ]
     },
     "execution_count": 3,
     "metadata": {},
     "output_type": "execute_result"
    }
   ],
   "source": [
    "os.system(\"ls\")"
   ]
  },
  {
   "cell_type": "code",
   "execution_count": 5,
   "metadata": {},
   "outputs": [
    {
     "name": "stdout",
     "output_type": "stream",
     "text": [
      "0\n",
      "b'        F =    -1802.6686225217008541\\n        F =    -1819.9072729216518383\\n        F =    -1819.3010150161990168\\n'\n",
      "1\n",
      "b''\n",
      "2\n",
      "b'        F =    -1802.6779010998220656\\n        F =    -1819.9512010367809580\\n'\n",
      "3\n",
      "b'        F =    -1802.7125878473714238\\n        F =    -1819.9461442221368088\\n        F =    -1819.3040830928080140\\n'\n"
     ]
    }
   ],
   "source": [
    "from subprocess import Popen, PIPE\n",
    "\n",
    "def run(cmd):\n",
    "    #print('-'*40)\n",
    "    #print('running:', cmd)\n",
    "    p = Popen(cmd, stderr=PIPE, stdout=PIPE, shell=True)\n",
    "    output, errors = p.communicate()\n",
    "    #print([p.returncode, errors, output])\n",
    "    if p.returncode or errors:\n",
    "        print('something went wrong...',errors)\n",
    "    return output    \n",
    "\n",
    "Barriers=[]\n",
    "for i in [\"0\",\"1\",\"2\",\"3\"]:\n",
    "    print(i)\n",
    "    a=run(\"cd 100_\"+i+\"; for i in 100_0-Solvated.out 100_1-Solvated.out 100_4-Solvated.out; do grep 'F =' $i | tail -1; done\")\n",
    "    print(a)"
   ]
  },
  {
   "cell_type": "code",
   "execution_count": 15,
   "metadata": {},
   "outputs": [],
   "source": [
    "   "
   ]
  },
  {
   "cell_type": "code",
   "execution_count": 19,
   "metadata": {},
   "outputs": [
    {
     "data": {
      "text/plain": [
       "[-1745.1812834386387, -1761.0247925765225, -1760.592481800416]"
      ]
     },
     "execution_count": 19,
     "metadata": {},
     "output_type": "execute_result"
    }
   ],
   "source": []
  },
  {
   "cell_type": "code",
   "execution_count": null,
   "metadata": {},
   "outputs": [],
   "source": []
  }
 ],
 "metadata": {
  "kernelspec": {
   "display_name": "Python 3",
   "language": "python",
   "name": "python3"
  },
  "language_info": {
   "codemirror_mode": {
    "name": "ipython",
    "version": 3
   },
   "file_extension": ".py",
   "mimetype": "text/x-python",
   "name": "python",
   "nbconvert_exporter": "python",
   "pygments_lexer": "ipython3",
   "version": "3.6.5"
  }
 },
 "nbformat": 4,
 "nbformat_minor": 2
}
