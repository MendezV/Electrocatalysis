{
 "cells": [
  {
   "cell_type": "code",
   "execution_count": 2,
   "metadata": {},
   "outputs": [
    {
     "data": {
      "text/plain": [
       "CompletedProcess(args=['ls', '-l'], returncode=0)"
      ]
     },
     "execution_count": 2,
     "metadata": {},
     "output_type": "execute_result"
    }
   ],
   "source": [
    "import os\n",
    "import numpy as np\n",
    "import matplotlib.pyplot  as plt \n",
    "import sys\n",
    "import subprocess\n",
    "subprocess.run([\"ls\", \"-l\"])"
   ]
  },
  {
   "cell_type": "code",
   "execution_count": 3,
   "metadata": {},
   "outputs": [
    {
     "data": {
      "text/plain": [
       "0"
      ]
     },
     "execution_count": 3,
     "metadata": {},
     "output_type": "execute_result"
    }
   ],
   "source": [
    "os.system(\"cd 100_0; for i in 100_0-Solvated.out 100_1-Solvated.out 100_4-Solvated.out; do grep 'G =' $i | tail -1; done\")"
   ]
  },
  {
   "cell_type": "code",
   "execution_count": 4,
   "metadata": {},
   "outputs": [
    {
     "data": {
      "text/plain": [
       "0"
      ]
     },
     "execution_count": 4,
     "metadata": {},
     "output_type": "execute_result"
    }
   ],
   "source": [
    "os.system(\"ls\")"
   ]
  },
  {
   "cell_type": "code",
   "execution_count": 5,
   "metadata": {},
   "outputs": [
    {
     "name": "stdout",
     "output_type": "stream",
     "text": [
      "0\n",
      "b'        F =    -1802.6689150699460242\\n        F =                      -nan\\n        F =    -1819.3012818467047964\\n'\n",
      "1\n",
      "b'        F =    -1802.6962804523277555\\n        F =    -1819.9308215274340910\\n        F =    -1819.3284639646640244\\n'\n",
      "2\n",
      "b'        F =    -1802.7164830447177337\\n        F =    -1819.9529098946334216\\n        F =    -1819.3442360329177063\\n'\n",
      "3\n",
      "b'        F =    -1802.7127253676521832\\n        F =    -1819.9483685040374894\\n        F =    -1819.3388141199204711\\n'\n"
     ]
    }
   ],
   "source": [
    "from subprocess import Popen, PIPE\n",
    "\n",
    "def run(cmd):\n",
    "    #print('-'*40)\n",
    "    #print('running:', cmd)\n",
    "    p = Popen(cmd, stderr=PIPE, stdout=PIPE, shell=True)\n",
    "    output, errors = p.communicate()\n",
    "    #print([p.returncode, errors, output])\n",
    "    if p.returncode or errors:\n",
    "        print('something went wrong...',errors)\n",
    "    return output    \n",
    "\n",
    "Barriers=[]\n",
    "for i in [\"0\",\"1\",\"2\",\"3\"]:\n",
    "    print(i)\n",
    "    a=run(\"cd 100_\"+i+\"; for i in 100_0-Solvated.out 100_1-Solvated.out 100_4-Solvated.out; do grep 'F =' $i | tail -1; done\")\n",
    "    print(a)"
   ]
  },
  {
   "cell_type": "code",
   "execution_count": null,
   "metadata": {},
   "outputs": [],
   "source": [
    "   "
   ]
  },
  {
   "cell_type": "code",
   "execution_count": 6,
   "metadata": {},
   "outputs": [],
   "source": [
    "Barriers=[[ -1802.6686225217008541, -1819.9072729216518383, -1819.3010150161990168],[-1802.6962804523277555, -1819.9308215274340910, -1819.3284639646640244],[ -1802.7164830447177337,  -1819.9529098946334216,  -1819.3442360329177063],[-1802.7127253676521832,  -1819.9483685040374894,  -1819.338814119920471]]"
   ]
  },
  {
   "cell_type": "code",
   "execution_count": 7,
   "metadata": {},
   "outputs": [
    {
     "data": {
      "text/plain": [
       "<matplotlib.collections.LineCollection at 0x10d1bba90>"
      ]
     },
     "execution_count": 7,
     "metadata": {},
     "output_type": "execute_result"
    },
    {
     "data": {
      "image/png": "[encoded data removed]",
      "text/plain": [
       "<Figure size 432x288 with 1 Axes>"
      ]
     },
     "metadata": {
      "needs_background": "light"
     },
     "output_type": "display_data"
    }
   ],
   "source": [
    "plt.hlines(Barriers[0], [0,1,2], [1,2,3])\n",
    "plt.hlines(Barriers[1], [0,1,2], [1,2,3])\n",
    "plt.hlines(Barriers[2], [0,1,2], [1,2,3])\n",
    "plt.hlines(Barriers[3], [0,1,2], [1,2,3])"
   ]
  },
  {
   "cell_type": "code",
   "execution_count": 75,
   "metadata": {},
   "outputs": [],
   "source": [
    "#energy of H3O+ -17.7059695738916965 (no strain box)\n",
    "#energy of water -17.2804343656070181 (no strain box)\n",
    "#solvation energy -6.32/627.509\n",
    "#heat of vaporization  -9.72/627.509\n",
    "Correctionextrawater= -17.2804343656070181 -6.32/627.509   -9.72/627.509 # in hartree\n",
    "CorrectionextraH=(-17.7059695738916965+17.2804343656070181) #-0.826923405  #-183.70/627.509    # in hartree\n",
    "\n",
    "# convert to ev\n",
    "Barriers_p=27.2114*np.array([[ -1802.6686225217008541+Correctionextrawater, -1819.9072729216518383, -1819.3010150161990168+CorrectionextraH],[-1802.6962804523277555+Correctionextrawater, -1819.9308215274340910, -1819.3284639646640244+CorrectionextraH],[ -1802.7164830447177337+Correctionextrawater,  -1819.9529098946334216,  -1819.3442360329177063+CorrectionextraH],[-1802.7127253676521832+Correctionextrawater,  -1819.9483685040374894,  -1819.338814119920471+CorrectionextraH]])\n",
    "Barriers_p=Barriers_p-min(Barriers_p.flatten())"
   ]
  },
  {
   "cell_type": "code",
   "execution_count": 76,
   "metadata": {},
   "outputs": [
    {
     "data": {
      "text/plain": [
       "(array([-1.,  0.,  1.,  2.,  3.,  4.,  5.,  6.,  7.,  8.,  9.]),\n",
       " <a list of 11 Text yticklabel objects>)"
      ]
     },
     "execution_count": 76,
     "metadata": {},
     "output_type": "execute_result"
    },
    {
     "data": {
      "image/png": "[encoded data removed]",
      "text/plain": [
       "<Figure size 432x288 with 1 Axes>"
      ]
     },
     "metadata": {
      "needs_background": "light"
     },
     "output_type": "display_data"
    }
   ],
   "source": [
    "plt.hlines(Barriers_p[0], [0,1,2], [1,2,3],color='k' , label='no strain')\n",
    "plt.hlines(Barriers_p[1], [0,1,2], [1,2,3],color='r' , label='strain 1')\n",
    "plt.hlines(Barriers_p[2], [0,1,2], [1,2,3],color='b',label='strain 2')\n",
    "plt.hlines(Barriers_p[3], [0,1,2], [1,2,3],color='g',label='strain 3 ')\n",
    "plt.legend(loc='upper left', prop={'size' : 14})\n",
    "plt.xlabel(r'Reaction coordinate', size=20)\n",
    "plt.ylabel(r'energy (eV)', size=20)\n",
    "plt.xticks(fontsize=20)\n",
    "plt.yticks(fontsize=20)"
   ]
  },
  {
   "cell_type": "code",
   "execution_count": 57,
   "metadata": {},
   "outputs": [
    {
     "data": {
      "text/plain": [
       "<matplotlib.collections.LineCollection at 0x118d705f8>"
      ]
     },
     "execution_count": 57,
     "metadata": {},
     "output_type": "execute_result"
    },
    {
     "data": {
      "image/png": "[encoded data removed]",
      "text/plain": [
       "<Figure size 432x288 with 1 Axes>"
      ]
     },
     "metadata": {
      "needs_background": "light"
     },
     "output_type": "display_data"
    }
   ],
   "source": [
    "plt.hlines(Barriers_p[0][1]-Barriers_p[0][0], [0,1,2], [1,2,3],color='k')\n",
    "plt.hlines(Barriers_p[1][1]-Barriers_p[1][0], [0,1,2], [1,2,3],color='r')\n",
    "plt.hlines(Barriers_p[2][1]-Barriers_p[2][0], [0,1,2], [1,2,3],color='b')\n",
    "plt.hlines(Barriers_p[3][1]-Barriers_p[3][0], [0,1,2], [1,2,3],color='g')"
   ]
  },
  {
   "cell_type": "code",
   "execution_count": 46,
   "metadata": {},
   "outputs": [
    {
     "data": {
      "text/plain": [
       "<matplotlib.collections.LineCollection at 0x118680ba8>"
      ]
     },
     "execution_count": 46,
     "metadata": {},
     "output_type": "execute_result"
    },
    {
     "data": {
      "image/png": "[encoded data removed]",
      "text/plain": [
       "<Figure size 432x288 with 1 Axes>"
      ]
     },
     "metadata": {
      "needs_background": "light"
     },
     "output_type": "display_data"
    }
   ],
   "source": [
    "plt.hlines(Barriers_p[0][2]-Barriers_p[0][1], [0,1,2], [1,2,3],color='k')\n",
    "plt.hlines(Barriers_p[1][2]-Barriers_p[1][1], [0,1,2], [1,2,3],color='r')\n",
    "plt.hlines(Barriers_p[2][2]-Barriers_p[2][1], [0,1,2], [1,2,3],color='b')\n",
    "plt.hlines(Barriers_p[3][2]-Barriers_p[3][1], [0,1,2], [1,2,3],color='g')"
   ]
  },
  {
   "cell_type": "code",
   "execution_count": 11,
   "metadata": {},
   "outputs": [
    {
     "data": {
      "text/plain": [
       "array([46.2066953 , 15.40222547, 15.40222547])"
      ]
     },
     "execution_count": 11,
     "metadata": {},
     "output_type": "execute_result"
    }
   ],
   "source": [
    "np.array([24.45148,  8.15049,  8.15049])*1.88973"
   ]
  },
  {
   "cell_type": "code",
   "execution_count": 12,
   "metadata": {},
   "outputs": [
    {
     "data": {
      "text/plain": [
       "array([43.56409687, 10.89102422, 15.40222547])"
      ]
     },
     "execution_count": 12,
     "metadata": {},
     "output_type": "execute_result"
    }
   ],
   "source": [
    "np.array([23.05308,  5.76327,  8.15049])*1.88973"
   ]
  },
  {
   "cell_type": "code",
   "execution_count": 13,
   "metadata": {},
   "outputs": [
    {
     "data": {
      "text/plain": [
       "array([10.89102422, 18.86379509, 40.01616659])"
      ]
     },
     "execution_count": 13,
     "metadata": {},
     "output_type": "execute_result"
    }
   ],
   "source": [
    "np.array([5.76327,  9.98227, 21.17560])*1.88973"
   ]
  },
  {
   "cell_type": "code",
   "execution_count": 74,
   "metadata": {},
   "outputs": [],
   "source": [
    "#energy of the formic acid by itself\n",
    "\n",
    "EFA=-38.9701105660301224"
   ]
  },
  {
   "cell_type": "code",
   "execution_count": null,
   "metadata": {},
   "outputs": [],
   "source": []
  }
 ],
 "metadata": {
  "kernelspec": {
   "display_name": "Python 3",
   "language": "python",
   "name": "python3"
  },
  "language_info": {
   "codemirror_mode": {
    "name": "ipython",
    "version": 3
   },
   "file_extension": ".py",
   "mimetype": "text/x-python",
   "name": "python",
   "nbconvert_exporter": "python",
   "pygments_lexer": "ipython3",
   "version": "3.7.0"
  }
 },
 "nbformat": 4,
 "nbformat_minor": 2
}
