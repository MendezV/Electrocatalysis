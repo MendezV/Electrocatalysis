{
 "cells": [
  {
   "cell_type": "code",
   "execution_count": 14,
   "metadata": {},
   "outputs": [
    {
     "name": "stdout",
     "output_type": "stream",
     "text": [
      "Populating the interactive namespace from numpy and matplotlib\n"
     ]
    },
    {
     "name": "stderr",
     "output_type": "stream",
     "text": [
      "/Users/juanmendezvalderrama/anaconda3/lib/python3.7/site-packages/IPython/core/magics/pylab.py:160: UserWarning: pylab import has clobbered these variables: ['f']\n",
      "`%matplotlib` prevents importing * from pylab and numpy\n",
      "  \"\\n`%matplotlib` prevents importing * from pylab and numpy\"\n"
     ]
    }
   ],
   "source": [
    "%pylab inline"
   ]
  },
  {
   "cell_type": "code",
   "execution_count": 59,
   "metadata": {},
   "outputs": [],
   "source": [
    "###Hartree to eV\n",
    "### eV to kcal/mol  23.060\n",
    "\n",
    "energies100=[]\n",
    "energies110=[]\n",
    "energies111=[]\n",
    "for i in ['1','2','3','4','5']:\n",
    "    f=open('100/100_'+i+'-Solvated.Ecomponents',\"r\")\n",
    "    lines=f.readlines()\n",
    "    energies100.append(float(lines[-1].split()[-1])*27.2114/ 23.060)\n",
    "    f=open('110/110_'+i+'-Solvated.Ecomponents',\"r\")\n",
    "    lines=f.readlines()\n",
    "    energies110.append(float(lines[-1].split()[-1])*27.2114/ 23.060)\n",
    "    f=open('111/111_'+i+'-Solvated.Ecomponents',\"r\")\n",
    "    lines=f.readlines()\n",
    "    energies111.append(float(lines[-1].split()[-1])*27.2114/ 23.060)"
   ]
  },
  {
   "cell_type": "code",
   "execution_count": 60,
   "metadata": {},
   "outputs": [],
   "source": [
    "#the two reaction pathways are given by indices 2-1-4 and 2-3-5"
   ]
  },
  {
   "cell_type": "code",
   "execution_count": null,
   "metadata": {},
   "outputs": [],
   "source": []
  },
  {
   "cell_type": "code",
   "execution_count": null,
   "metadata": {},
   "outputs": [],
   "source": []
  },
  {
   "cell_type": "code",
   "execution_count": 64,
   "metadata": {},
   "outputs": [
    {
     "data": {
      "image/png": "[encoded data removed]",
      "text/plain": [
       "<Figure size 432x288 with 1 Axes>"
      ]
     },
     "metadata": {
      "needs_background": "light"
     },
     "output_type": "display_data"
    }
   ],
   "source": [
    "hlines(energies100[1],1,3, color='darkred', label='100')\n",
    "hlines(energies100[0],3,5, color='darkred')\n",
    "hlines(energies100[3],5,7, color='darkred')\n",
    "hlines(energies110[1],1,3, color='b',label='110')\n",
    "hlines(energies110[0],3,5, color='b')\n",
    "hlines(energies110[3],5,7, color='b')\n",
    "hlines(energies111[1],1,3, color='g', label= '111')\n",
    "hlines(energies111[0],3,5, color='g')\n",
    "hlines(energies111[3],5,7, color='g')\n",
    "plt.tick_params(\n",
    "    axis='x',          # changes apply to the x-axis\n",
    "    which='both',      # both major and minor ticks are affected\n",
    "    bottom=False,      # ticks along the bottom edge are off\n",
    "    top=False,         # ticks along the top edge are off\n",
    "    labelbottom=False) # labels along the bottom edge are off\n",
    "\n",
    "legend()\n",
    "savefig('pathway_1_no_strain.png')"
   ]
  },
  {
   "cell_type": "code",
   "execution_count": 67,
   "metadata": {},
   "outputs": [
    {
     "data": {
      "image/png": "[encoded data removed]",
      "text/plain": [
       "<Figure size 432x288 with 1 Axes>"
      ]
     },
     "metadata": {
      "needs_background": "light"
     },
     "output_type": "display_data"
    }
   ],
   "source": [
    "hlines(energies100[1],1,3, color='darkred', label='100')\n",
    "hlines(energies100[2],3,5, color='darkred')\n",
    "hlines(energies100[4],5,7, color='darkred')\n",
    "hlines(energies110[1],1,3, color='b',label='110')\n",
    "hlines(energies110[2],3,5, color='b')\n",
    "hlines(energies110[4],5,7, color='b')\n",
    "hlines(energies111[1],1,3, color='g', label= '111')\n",
    "hlines(energies111[2],3,5, color='g')\n",
    "hlines(energies111[4],5,7, color='g')\n",
    "plt.tick_params(\n",
    "    axis='x',          # changes apply to the x-axis\n",
    "    which='both',      # both major and minor ticks are affected\n",
    "    bottom=False,      # ticks along the bottom edge are off\n",
    "    top=False,         # ticks along the top edge are off\n",
    "    labelbottom=False) # labels along the bottom edge are off\n",
    "\n",
    "legend()\n",
    "savefig('pathway_2_no_strain.png')"
   ]
  },
  {
   "cell_type": "code",
   "execution_count": null,
   "metadata": {},
   "outputs": [],
   "source": []
  },
  {
   "cell_type": "code",
   "execution_count": null,
   "metadata": {},
   "outputs": [],
   "source": []
  }
 ],
 "metadata": {
  "kernelspec": {
   "display_name": "Python 3",
   "language": "python",
   "name": "python3"
  },
  "language_info": {
   "codemirror_mode": {
    "name": "ipython",
    "version": 3
   },
   "file_extension": ".py",
   "mimetype": "text/x-python",
   "name": "python",
   "nbconvert_exporter": "python",
   "pygments_lexer": "ipython3",
   "version": "3.7.0"
  }
 },
 "nbformat": 4,
 "nbformat_minor": 2
}
